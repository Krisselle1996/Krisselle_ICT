{
 "cells": [
  {
   "cell_type": "markdown",
   "id": "49e3ff8e",
   "metadata": {},
   "source": [
    "# Train Data"
   ]
  },
  {
   "cell_type": "markdown",
   "id": "85dad8d9",
   "metadata": {},
   "source": [
    "## Importing Necessary Libraries "
   ]
  },
  {
   "cell_type": "code",
   "execution_count": 1,
   "id": "7090c9fb",
   "metadata": {},
   "outputs": [],
   "source": [
    "import pandas as pd\n",
    "import numpy as np\n",
    "import matplotlib.pyplot as plt\n",
    "import seaborn as sns"
   ]
  },
  {
   "cell_type": "code",
   "execution_count": 2,
   "id": "aa8bedc8",
   "metadata": {},
   "outputs": [],
   "source": [
    "train_data = pd.read_csv(\"C:/Users/KRIZAL/Desktop/DSA/Virtual Competition 2/train_file.csv\")"
   ]
  },
  {
   "cell_type": "code",
   "execution_count": 3,
   "id": "a5192ec6",
   "metadata": {},
   "outputs": [
    {
     "data": {
      "text/html": [
       "<div>\n",
       "<style scoped>\n",
       "    .dataframe tbody tr th:only-of-type {\n",
       "        vertical-align: middle;\n",
       "    }\n",
       "\n",
       "    .dataframe tbody tr th {\n",
       "        vertical-align: top;\n",
       "    }\n",
       "\n",
       "    .dataframe thead th {\n",
       "        text-align: right;\n",
       "    }\n",
       "</style>\n",
       "<table border=\"1\" class=\"dataframe\">\n",
       "  <thead>\n",
       "    <tr style=\"text-align: right;\">\n",
       "      <th></th>\n",
       "      <th>Loan_ID</th>\n",
       "      <th>Gender</th>\n",
       "      <th>Married</th>\n",
       "      <th>Dependents</th>\n",
       "      <th>Education</th>\n",
       "      <th>Self_Employed</th>\n",
       "      <th>ApplicantIncome</th>\n",
       "      <th>CoapplicantIncome</th>\n",
       "      <th>LoanAmount</th>\n",
       "      <th>Loan_Amount_Term</th>\n",
       "      <th>Credit_History</th>\n",
       "      <th>Property_Area</th>\n",
       "      <th>Loan_Status</th>\n",
       "    </tr>\n",
       "  </thead>\n",
       "  <tbody>\n",
       "    <tr>\n",
       "      <th>0</th>\n",
       "      <td>LP001002</td>\n",
       "      <td>Male</td>\n",
       "      <td>No</td>\n",
       "      <td>0</td>\n",
       "      <td>Graduate</td>\n",
       "      <td>No</td>\n",
       "      <td>5849</td>\n",
       "      <td>0.0</td>\n",
       "      <td>NaN</td>\n",
       "      <td>360.0</td>\n",
       "      <td>1.0</td>\n",
       "      <td>Urban</td>\n",
       "      <td>Y</td>\n",
       "    </tr>\n",
       "    <tr>\n",
       "      <th>1</th>\n",
       "      <td>LP001003</td>\n",
       "      <td>Male</td>\n",
       "      <td>Yes</td>\n",
       "      <td>1</td>\n",
       "      <td>Graduate</td>\n",
       "      <td>No</td>\n",
       "      <td>4583</td>\n",
       "      <td>1508.0</td>\n",
       "      <td>128.0</td>\n",
       "      <td>360.0</td>\n",
       "      <td>1.0</td>\n",
       "      <td>Rural</td>\n",
       "      <td>N</td>\n",
       "    </tr>\n",
       "    <tr>\n",
       "      <th>2</th>\n",
       "      <td>LP001005</td>\n",
       "      <td>Male</td>\n",
       "      <td>Yes</td>\n",
       "      <td>0</td>\n",
       "      <td>Graduate</td>\n",
       "      <td>Yes</td>\n",
       "      <td>3000</td>\n",
       "      <td>0.0</td>\n",
       "      <td>66.0</td>\n",
       "      <td>360.0</td>\n",
       "      <td>1.0</td>\n",
       "      <td>Urban</td>\n",
       "      <td>Y</td>\n",
       "    </tr>\n",
       "    <tr>\n",
       "      <th>3</th>\n",
       "      <td>LP001006</td>\n",
       "      <td>Male</td>\n",
       "      <td>Yes</td>\n",
       "      <td>0</td>\n",
       "      <td>Not Graduate</td>\n",
       "      <td>No</td>\n",
       "      <td>2583</td>\n",
       "      <td>2358.0</td>\n",
       "      <td>120.0</td>\n",
       "      <td>360.0</td>\n",
       "      <td>1.0</td>\n",
       "      <td>Urban</td>\n",
       "      <td>Y</td>\n",
       "    </tr>\n",
       "    <tr>\n",
       "      <th>4</th>\n",
       "      <td>LP001008</td>\n",
       "      <td>Male</td>\n",
       "      <td>No</td>\n",
       "      <td>0</td>\n",
       "      <td>Graduate</td>\n",
       "      <td>No</td>\n",
       "      <td>6000</td>\n",
       "      <td>0.0</td>\n",
       "      <td>141.0</td>\n",
       "      <td>360.0</td>\n",
       "      <td>1.0</td>\n",
       "      <td>Urban</td>\n",
       "      <td>Y</td>\n",
       "    </tr>\n",
       "    <tr>\n",
       "      <th>...</th>\n",
       "      <td>...</td>\n",
       "      <td>...</td>\n",
       "      <td>...</td>\n",
       "      <td>...</td>\n",
       "      <td>...</td>\n",
       "      <td>...</td>\n",
       "      <td>...</td>\n",
       "      <td>...</td>\n",
       "      <td>...</td>\n",
       "      <td>...</td>\n",
       "      <td>...</td>\n",
       "      <td>...</td>\n",
       "      <td>...</td>\n",
       "    </tr>\n",
       "    <tr>\n",
       "      <th>609</th>\n",
       "      <td>LP002978</td>\n",
       "      <td>Female</td>\n",
       "      <td>No</td>\n",
       "      <td>0</td>\n",
       "      <td>Graduate</td>\n",
       "      <td>No</td>\n",
       "      <td>2900</td>\n",
       "      <td>0.0</td>\n",
       "      <td>71.0</td>\n",
       "      <td>360.0</td>\n",
       "      <td>1.0</td>\n",
       "      <td>Rural</td>\n",
       "      <td>Y</td>\n",
       "    </tr>\n",
       "    <tr>\n",
       "      <th>610</th>\n",
       "      <td>LP002979</td>\n",
       "      <td>Male</td>\n",
       "      <td>Yes</td>\n",
       "      <td>3+</td>\n",
       "      <td>Graduate</td>\n",
       "      <td>No</td>\n",
       "      <td>4106</td>\n",
       "      <td>0.0</td>\n",
       "      <td>40.0</td>\n",
       "      <td>180.0</td>\n",
       "      <td>1.0</td>\n",
       "      <td>Rural</td>\n",
       "      <td>Y</td>\n",
       "    </tr>\n",
       "    <tr>\n",
       "      <th>611</th>\n",
       "      <td>LP002983</td>\n",
       "      <td>Male</td>\n",
       "      <td>Yes</td>\n",
       "      <td>1</td>\n",
       "      <td>Graduate</td>\n",
       "      <td>No</td>\n",
       "      <td>8072</td>\n",
       "      <td>240.0</td>\n",
       "      <td>253.0</td>\n",
       "      <td>360.0</td>\n",
       "      <td>1.0</td>\n",
       "      <td>Urban</td>\n",
       "      <td>Y</td>\n",
       "    </tr>\n",
       "    <tr>\n",
       "      <th>612</th>\n",
       "      <td>LP002984</td>\n",
       "      <td>Male</td>\n",
       "      <td>Yes</td>\n",
       "      <td>2</td>\n",
       "      <td>Graduate</td>\n",
       "      <td>No</td>\n",
       "      <td>7583</td>\n",
       "      <td>0.0</td>\n",
       "      <td>187.0</td>\n",
       "      <td>360.0</td>\n",
       "      <td>1.0</td>\n",
       "      <td>Urban</td>\n",
       "      <td>Y</td>\n",
       "    </tr>\n",
       "    <tr>\n",
       "      <th>613</th>\n",
       "      <td>LP002990</td>\n",
       "      <td>Female</td>\n",
       "      <td>No</td>\n",
       "      <td>0</td>\n",
       "      <td>Graduate</td>\n",
       "      <td>Yes</td>\n",
       "      <td>4583</td>\n",
       "      <td>0.0</td>\n",
       "      <td>133.0</td>\n",
       "      <td>360.0</td>\n",
       "      <td>0.0</td>\n",
       "      <td>Semiurban</td>\n",
       "      <td>N</td>\n",
       "    </tr>\n",
       "  </tbody>\n",
       "</table>\n",
       "<p>614 rows × 13 columns</p>\n",
       "</div>"
      ],
      "text/plain": [
       "      Loan_ID  Gender Married Dependents     Education Self_Employed  \\\n",
       "0    LP001002    Male      No          0      Graduate            No   \n",
       "1    LP001003    Male     Yes          1      Graduate            No   \n",
       "2    LP001005    Male     Yes          0      Graduate           Yes   \n",
       "3    LP001006    Male     Yes          0  Not Graduate            No   \n",
       "4    LP001008    Male      No          0      Graduate            No   \n",
       "..        ...     ...     ...        ...           ...           ...   \n",
       "609  LP002978  Female      No          0      Graduate            No   \n",
       "610  LP002979    Male     Yes         3+      Graduate            No   \n",
       "611  LP002983    Male     Yes          1      Graduate            No   \n",
       "612  LP002984    Male     Yes          2      Graduate            No   \n",
       "613  LP002990  Female      No          0      Graduate           Yes   \n",
       "\n",
       "     ApplicantIncome  CoapplicantIncome  LoanAmount  Loan_Amount_Term  \\\n",
       "0               5849                0.0         NaN             360.0   \n",
       "1               4583             1508.0       128.0             360.0   \n",
       "2               3000                0.0        66.0             360.0   \n",
       "3               2583             2358.0       120.0             360.0   \n",
       "4               6000                0.0       141.0             360.0   \n",
       "..               ...                ...         ...               ...   \n",
       "609             2900                0.0        71.0             360.0   \n",
       "610             4106                0.0        40.0             180.0   \n",
       "611             8072              240.0       253.0             360.0   \n",
       "612             7583                0.0       187.0             360.0   \n",
       "613             4583                0.0       133.0             360.0   \n",
       "\n",
       "     Credit_History Property_Area Loan_Status  \n",
       "0               1.0         Urban           Y  \n",
       "1               1.0         Rural           N  \n",
       "2               1.0         Urban           Y  \n",
       "3               1.0         Urban           Y  \n",
       "4               1.0         Urban           Y  \n",
       "..              ...           ...         ...  \n",
       "609             1.0         Rural           Y  \n",
       "610             1.0         Rural           Y  \n",
       "611             1.0         Urban           Y  \n",
       "612             1.0         Urban           Y  \n",
       "613             0.0     Semiurban           N  \n",
       "\n",
       "[614 rows x 13 columns]"
      ]
     },
     "execution_count": 3,
     "metadata": {},
     "output_type": "execute_result"
    }
   ],
   "source": [
    "train_data"
   ]
  },
  {
   "cell_type": "code",
   "execution_count": 4,
   "id": "f0c021bb",
   "metadata": {},
   "outputs": [
    {
     "data": {
      "text/plain": [
       "(614, 13)"
      ]
     },
     "execution_count": 4,
     "metadata": {},
     "output_type": "execute_result"
    }
   ],
   "source": [
    "train_data.shape"
   ]
  },
  {
   "cell_type": "code",
   "execution_count": 5,
   "id": "d4070b3b",
   "metadata": {},
   "outputs": [
    {
     "data": {
      "text/html": [
       "<div>\n",
       "<style scoped>\n",
       "    .dataframe tbody tr th:only-of-type {\n",
       "        vertical-align: middle;\n",
       "    }\n",
       "\n",
       "    .dataframe tbody tr th {\n",
       "        vertical-align: top;\n",
       "    }\n",
       "\n",
       "    .dataframe thead th {\n",
       "        text-align: right;\n",
       "    }\n",
       "</style>\n",
       "<table border=\"1\" class=\"dataframe\">\n",
       "  <thead>\n",
       "    <tr style=\"text-align: right;\">\n",
       "      <th></th>\n",
       "      <th>ApplicantIncome</th>\n",
       "      <th>CoapplicantIncome</th>\n",
       "      <th>LoanAmount</th>\n",
       "      <th>Loan_Amount_Term</th>\n",
       "      <th>Credit_History</th>\n",
       "    </tr>\n",
       "  </thead>\n",
       "  <tbody>\n",
       "    <tr>\n",
       "      <th>count</th>\n",
       "      <td>614.000000</td>\n",
       "      <td>614.000000</td>\n",
       "      <td>592.000000</td>\n",
       "      <td>600.00000</td>\n",
       "      <td>564.000000</td>\n",
       "    </tr>\n",
       "    <tr>\n",
       "      <th>mean</th>\n",
       "      <td>5403.459283</td>\n",
       "      <td>1621.245798</td>\n",
       "      <td>146.412162</td>\n",
       "      <td>342.00000</td>\n",
       "      <td>0.842199</td>\n",
       "    </tr>\n",
       "    <tr>\n",
       "      <th>std</th>\n",
       "      <td>6109.041673</td>\n",
       "      <td>2926.248369</td>\n",
       "      <td>85.587325</td>\n",
       "      <td>65.12041</td>\n",
       "      <td>0.364878</td>\n",
       "    </tr>\n",
       "    <tr>\n",
       "      <th>min</th>\n",
       "      <td>150.000000</td>\n",
       "      <td>0.000000</td>\n",
       "      <td>9.000000</td>\n",
       "      <td>12.00000</td>\n",
       "      <td>0.000000</td>\n",
       "    </tr>\n",
       "    <tr>\n",
       "      <th>25%</th>\n",
       "      <td>2877.500000</td>\n",
       "      <td>0.000000</td>\n",
       "      <td>100.000000</td>\n",
       "      <td>360.00000</td>\n",
       "      <td>1.000000</td>\n",
       "    </tr>\n",
       "    <tr>\n",
       "      <th>50%</th>\n",
       "      <td>3812.500000</td>\n",
       "      <td>1188.500000</td>\n",
       "      <td>128.000000</td>\n",
       "      <td>360.00000</td>\n",
       "      <td>1.000000</td>\n",
       "    </tr>\n",
       "    <tr>\n",
       "      <th>75%</th>\n",
       "      <td>5795.000000</td>\n",
       "      <td>2297.250000</td>\n",
       "      <td>168.000000</td>\n",
       "      <td>360.00000</td>\n",
       "      <td>1.000000</td>\n",
       "    </tr>\n",
       "    <tr>\n",
       "      <th>max</th>\n",
       "      <td>81000.000000</td>\n",
       "      <td>41667.000000</td>\n",
       "      <td>700.000000</td>\n",
       "      <td>480.00000</td>\n",
       "      <td>1.000000</td>\n",
       "    </tr>\n",
       "  </tbody>\n",
       "</table>\n",
       "</div>"
      ],
      "text/plain": [
       "       ApplicantIncome  CoapplicantIncome  LoanAmount  Loan_Amount_Term  \\\n",
       "count       614.000000         614.000000  592.000000         600.00000   \n",
       "mean       5403.459283        1621.245798  146.412162         342.00000   \n",
       "std        6109.041673        2926.248369   85.587325          65.12041   \n",
       "min         150.000000           0.000000    9.000000          12.00000   \n",
       "25%        2877.500000           0.000000  100.000000         360.00000   \n",
       "50%        3812.500000        1188.500000  128.000000         360.00000   \n",
       "75%        5795.000000        2297.250000  168.000000         360.00000   \n",
       "max       81000.000000       41667.000000  700.000000         480.00000   \n",
       "\n",
       "       Credit_History  \n",
       "count      564.000000  \n",
       "mean         0.842199  \n",
       "std          0.364878  \n",
       "min          0.000000  \n",
       "25%          1.000000  \n",
       "50%          1.000000  \n",
       "75%          1.000000  \n",
       "max          1.000000  "
      ]
     },
     "execution_count": 5,
     "metadata": {},
     "output_type": "execute_result"
    }
   ],
   "source": [
    "train_data.describe()"
   ]
  },
  {
   "cell_type": "code",
   "execution_count": 6,
   "id": "25c75b82",
   "metadata": {},
   "outputs": [
    {
     "data": {
      "text/plain": [
       "Loan_ID               object\n",
       "Gender                object\n",
       "Married               object\n",
       "Dependents            object\n",
       "Education             object\n",
       "Self_Employed         object\n",
       "ApplicantIncome        int64\n",
       "CoapplicantIncome    float64\n",
       "LoanAmount           float64\n",
       "Loan_Amount_Term     float64\n",
       "Credit_History       float64\n",
       "Property_Area         object\n",
       "Loan_Status           object\n",
       "dtype: object"
      ]
     },
     "execution_count": 6,
     "metadata": {},
     "output_type": "execute_result"
    }
   ],
   "source": [
    "train_data.dtypes"
   ]
  },
  {
   "cell_type": "markdown",
   "id": "daca3d32",
   "metadata": {},
   "source": [
    "## Exploratory Data Analysis "
   ]
  },
  {
   "cell_type": "code",
   "execution_count": 7,
   "id": "b7baa783",
   "metadata": {},
   "outputs": [
    {
     "data": {
      "text/plain": [
       "['ApplicantIncome',\n",
       " 'CoapplicantIncome',\n",
       " 'LoanAmount',\n",
       " 'Loan_Amount_Term',\n",
       " 'Credit_History']"
      ]
     },
     "execution_count": 7,
     "metadata": {},
     "output_type": "execute_result"
    }
   ],
   "source": [
    "# Numerical features\n",
    "\n",
    "\n",
    "num_feature = [features for features in train_data.columns if train_data[features].dtypes!=\"O\" and features !='Loan_Status']\n",
    "num_feature"
   ]
  },
  {
   "cell_type": "code",
   "execution_count": 8,
   "id": "bed53e09",
   "metadata": {},
   "outputs": [
    {
     "name": "stdout",
     "output_type": "stream",
     "text": [
      "LoanAmount:0.0358 % missing values\n",
      "Loan_Amount_Term:0.0228 % missing values\n",
      "Credit_History:0.0814 % missing values\n"
     ]
    }
   ],
   "source": [
    "# Checking for numerical values with missing values\n",
    "numerical_nan = [feature for feature in train_data.columns if train_data[feature].isnull().sum()>1 and train_data[feature].dtypes!='O']\n",
    "\n",
    "for features in numerical_nan:\n",
    "    print(\"{}:{} % missing values\".format(features,np.round(train_data[features].isnull().mean(),4)))"
   ]
  },
  {
   "cell_type": "code",
   "execution_count": 9,
   "id": "0d396986",
   "metadata": {},
   "outputs": [
    {
     "data": {
      "text/plain": [
       "['Loan_ID',\n",
       " 'Gender',\n",
       " 'Married',\n",
       " 'Dependents',\n",
       " 'Education',\n",
       " 'Self_Employed',\n",
       " 'Property_Area']"
      ]
     },
     "execution_count": 9,
     "metadata": {},
     "output_type": "execute_result"
    }
   ],
   "source": [
    "# Categorical Columns\n",
    "\n",
    "cat_feature = [features for features in train_data.columns if train_data[features].dtypes==\"O\" and features !='Loan_Status']\n",
    "cat_feature"
   ]
  },
  {
   "cell_type": "code",
   "execution_count": 10,
   "id": "a4c729f5",
   "metadata": {},
   "outputs": [
    {
     "name": "stdout",
     "output_type": "stream",
     "text": [
      "Gender:0.0212 % missing values\n",
      "Married:0.0049 % missing values\n",
      "Dependents:0.0244 % missing values\n",
      "Self_Employed:0.0521 % missing values\n"
     ]
    }
   ],
   "source": [
    "# Checking with categorical values first\n",
    "\n",
    "categorical_nan = [feature for feature in train_data.columns if train_data[feature].isnull().sum()>1 and train_data[feature].dtypes=='O']\n",
    "\n",
    "for features in categorical_nan:\n",
    "    print(\"{}:{} % missing values\".format(features,np.round(train_data[features].isnull().mean(),4)))"
   ]
  },
  {
   "cell_type": "code",
   "execution_count": 11,
   "id": "9ab69b74",
   "metadata": {
    "scrolled": false
   },
   "outputs": [
    {
     "name": "stderr",
     "output_type": "stream",
     "text": [
      "C:\\Users\\KRIZAL\\anaconda3\\lib\\site-packages\\seaborn\\_decorators.py:36: FutureWarning: Pass the following variable as a keyword arg: x. From version 0.12, the only valid positional argument will be `data`, and passing other arguments without an explicit keyword will result in an error or misinterpretation.\n",
      "  warnings.warn(\n"
     ]
    },
    {
     "data": {
      "image/png": "[encoded data removed]",
      "text/plain": [
       "<Figure size 500x500 with 1 Axes>"
      ]
     },
     "metadata": {},
     "output_type": "display_data"
    },
    {
     "name": "stderr",
     "output_type": "stream",
     "text": [
      "C:\\Users\\KRIZAL\\anaconda3\\lib\\site-packages\\seaborn\\_decorators.py:36: FutureWarning: Pass the following variable as a keyword arg: x. From version 0.12, the only valid positional argument will be `data`, and passing other arguments without an explicit keyword will result in an error or misinterpretation.\n",
      "  warnings.warn(\n"
     ]
    },
    {
     "data": {
      "image/png": "[encoded data removed]",
      "text/plain": [
       "<Figure size 500x500 with 1 Axes>"
      ]
     },
     "metadata": {},
     "output_type": "display_data"
    },
    {
     "name": "stderr",
     "output_type": "stream",
     "text": [
      "C:\\Users\\KRIZAL\\anaconda3\\lib\\site-packages\\seaborn\\_decorators.py:36: FutureWarning: Pass the following variable as a keyword arg: x. From version 0.12, the only valid positional argument will be `data`, and passing other arguments without an explicit keyword will result in an error or misinterpretation.\n",
      "  warnings.warn(\n"
     ]
    },
    {
     "data": {
      "image/png": "[encoded data removed]",
      "text/plain": [
       "<Figure size 500x500 with 1 Axes>"
      ]
     },
     "metadata": {},
     "output_type": "display_data"
    },
    {
     "name": "stderr",
     "output_type": "stream",
     "text": [
      "C:\\Users\\KRIZAL\\anaconda3\\lib\\site-packages\\seaborn\\_decorators.py:36: FutureWarning: Pass the following variable as a keyword arg: x. From version 0.12, the only valid positional argument will be `data`, and passing other arguments without an explicit keyword will result in an error or misinterpretation.\n",
      "  warnings.warn(\n"
     ]
    },
    {
     "data": {
      "image/png": "[encoded data removed]",
      "text/plain": [
       "<Figure size 500x500 with 1 Axes>"
      ]
     },
     "metadata": {},
     "output_type": "display_data"
    },
    {
     "name": "stderr",
     "output_type": "stream",
     "text": [
      "C:\\Users\\KRIZAL\\anaconda3\\lib\\site-packages\\seaborn\\_decorators.py:36: FutureWarning: Pass the following variable as a keyword arg: x. From version 0.12, the only valid positional argument will be `data`, and passing other arguments without an explicit keyword will result in an error or misinterpretation.\n",
      "  warnings.warn(\n"
     ]
    },
    {
     "data": {
      "image/png": "[encoded data removed]",
      "text/plain": [
       "<Figure size 500x500 with 1 Axes>"
      ]
     },
     "metadata": {},
     "output_type": "display_data"
    },
    {
     "name": "stderr",
     "output_type": "stream",
     "text": [
      "C:\\Users\\KRIZAL\\anaconda3\\lib\\site-packages\\seaborn\\_decorators.py:36: FutureWarning: Pass the following variable as a keyword arg: x. From version 0.12, the only valid positional argument will be `data`, and passing other arguments without an explicit keyword will result in an error or misinterpretation.\n",
      "  warnings.warn(\n"
     ]
    },
    {
     "data": {
      "image/png": "[encoded data removed]",
      "text/plain": [
       "<Figure size 500x500 with 1 Axes>"
      ]
     },
     "metadata": {},
     "output_type": "display_data"
    }
   ],
   "source": [
    "# Plotting Gender attribute\n",
    "\n",
    "plt.figure(figsize=(5,5))\n",
    "sns.countplot(train_data[\"Gender\"])\n",
    "plt.title(\"Count plot for Gender\\n\")\n",
    "plt.show()\n",
    "\n",
    "\n",
    "# Plotting Married attribute\n",
    "\n",
    "plt.figure(figsize=(5,5))\n",
    "sns.countplot(train_data[\"Married\"])\n",
    "plt.title(\"Count plot for Married\\n\")\n",
    "plt.show()\n",
    "\n",
    "\n",
    "# Plotting Dependents attribute\n",
    "\n",
    "plt.figure(figsize=(5,5))\n",
    "sns.countplot(train_data[\"Dependents\"])\n",
    "plt.title(\"Count plot for Dependents\\n\")\n",
    "plt.show()\n",
    "\n",
    "\n",
    "\n",
    "# Plotting Education attribute\n",
    "\n",
    "plt.figure(figsize=(5,5))\n",
    "sns.countplot(train_data[\"Education\"])\n",
    "plt.title(\"Count plot for Education\\n\")\n",
    "plt.show()\n",
    "\n",
    "\n",
    "# Plotting Self_Employed attribute\n",
    "\n",
    "plt.figure(figsize=(5,5))\n",
    "sns.countplot(train_data[\"Self_Employed\"])\n",
    "plt.title(\"Count plot for Self Employed\\n\")\n",
    "plt.show()\n",
    "\n",
    "\n",
    "# Plotting Property_Area attribute\n",
    "\n",
    "plt.figure(figsize=(5,5))\n",
    "sns.countplot(train_data[\"Property_Area\"])\n",
    "plt.title(\"Count plot for Property_Area\\n\")\n",
    "plt.show()"
   ]
  },
  {
   "cell_type": "markdown",
   "id": "3e5d7efb",
   "metadata": {},
   "source": [
    "**The following observations are made from this graphs for categorical attributes:**\n",
    "\n",
    "\n",
    "1) The no. of males applied for loan are higher than females.\n",
    "\n",
    "\n",
    "2) Most of the loan applicants are married.\n",
    "\n",
    "\n",
    "3) Majority people applied for loan for themselves.\n",
    "\n",
    "\n",
    "4) Graduates applied for loan more than non graduates\n",
    "\n",
    "\n",
    "5) Most of them are not self employed\n",
    "\n",
    "\n",
    "6) People who have property in semiurban region apply for loan more compare to urban and rural region.\n"
   ]
  },
  {
   "cell_type": "markdown",
   "id": "4119189e",
   "metadata": {},
   "source": [
    "### Frequency Graph "
   ]
  },
  {
   "cell_type": "code",
   "execution_count": 12,
   "id": "3f1c216c",
   "metadata": {},
   "outputs": [
    {
     "data": {
      "text/plain": [
       "array([[<AxesSubplot:title={'center':'ApplicantIncome'}>,\n",
       "        <AxesSubplot:title={'center':'CoapplicantIncome'}>],\n",
       "       [<AxesSubplot:title={'center':'LoanAmount'}>,\n",
       "        <AxesSubplot:title={'center':'Loan_Amount_Term'}>],\n",
       "       [<AxesSubplot:title={'center':'Credit_History'}>, <AxesSubplot:>]],\n",
       "      dtype=object)"
      ]
     },
     "execution_count": 12,
     "metadata": {},
     "output_type": "execute_result"
    },
    {
     "data": {
      "image/png": "[encoded data removed]",
      "text/plain": [
       "<Figure size 2000x1500 with 6 Axes>"
      ]
     },
     "metadata": {},
     "output_type": "display_data"
    }
   ],
   "source": [
    "freq_graph = train_data.select_dtypes(include = [\"float\", \"int\"])\n",
    "freq_graph.hist(figsize = (20, 15))"
   ]
  },
  {
   "cell_type": "markdown",
   "id": "be8da363",
   "metadata": {},
   "source": [
    "## Preprocessing"
   ]
  },
  {
   "cell_type": "code",
   "execution_count": 13,
   "id": "b596c80b",
   "metadata": {},
   "outputs": [
    {
     "data": {
      "text/plain": [
       "Loan_ID              614\n",
       "Gender                 2\n",
       "Married                2\n",
       "Dependents             4\n",
       "Education              2\n",
       "Self_Employed          2\n",
       "ApplicantIncome      505\n",
       "CoapplicantIncome    287\n",
       "LoanAmount           203\n",
       "Loan_Amount_Term      10\n",
       "Credit_History         2\n",
       "Property_Area          3\n",
       "Loan_Status            2\n",
       "dtype: int64"
      ]
     },
     "execution_count": 13,
     "metadata": {},
     "output_type": "execute_result"
    }
   ],
   "source": [
    "train_data.nunique()"
   ]
  },
  {
   "cell_type": "code",
   "execution_count": 14,
   "id": "490b74c1",
   "metadata": {},
   "outputs": [
    {
     "data": {
      "text/plain": [
       "Loan_ID               0\n",
       "Gender               13\n",
       "Married               3\n",
       "Dependents           15\n",
       "Education             0\n",
       "Self_Employed        32\n",
       "ApplicantIncome       0\n",
       "CoapplicantIncome     0\n",
       "LoanAmount           22\n",
       "Loan_Amount_Term     14\n",
       "Credit_History       50\n",
       "Property_Area         0\n",
       "Loan_Status           0\n",
       "dtype: int64"
      ]
     },
     "execution_count": 14,
     "metadata": {},
     "output_type": "execute_result"
    }
   ],
   "source": [
    "#Finding null values\n",
    "\n",
    "train_data.isna().sum() "
   ]
  },
  {
   "cell_type": "code",
   "execution_count": 15,
   "id": "02b2f9a0",
   "metadata": {},
   "outputs": [
    {
     "data": {
      "text/plain": [
       "Index(['Loan_ID', 'Gender', 'Married', 'Dependents', 'Education',\n",
       "       'Self_Employed', 'ApplicantIncome', 'CoapplicantIncome', 'LoanAmount',\n",
       "       'Loan_Amount_Term', 'Credit_History', 'Property_Area', 'Loan_Status'],\n",
       "      dtype='object')"
      ]
     },
     "execution_count": 15,
     "metadata": {},
     "output_type": "execute_result"
    }
   ],
   "source": [
    "train_data.columns"
   ]
  },
  {
   "cell_type": "code",
   "execution_count": 16,
   "id": "974dd90d",
   "metadata": {},
   "outputs": [
    {
     "data": {
      "text/plain": [
       "10"
      ]
     },
     "execution_count": 16,
     "metadata": {},
     "output_type": "execute_result"
    }
   ],
   "source": [
    "train_data[\"Loan_Amount_Term\"].nunique()"
   ]
  },
  {
   "cell_type": "code",
   "execution_count": 17,
   "id": "94c7baf2",
   "metadata": {},
   "outputs": [
    {
     "data": {
      "text/plain": [
       "Loan_ID              0\n",
       "Gender               0\n",
       "Married              0\n",
       "Dependents           0\n",
       "Education            0\n",
       "Self_Employed        0\n",
       "ApplicantIncome      0\n",
       "CoapplicantIncome    0\n",
       "LoanAmount           0\n",
       "Loan_Amount_Term     0\n",
       "Credit_History       0\n",
       "Property_Area        0\n",
       "Loan_Status          0\n",
       "dtype: int64"
      ]
     },
     "execution_count": 17,
     "metadata": {},
     "output_type": "execute_result"
    }
   ],
   "source": [
    "# Filling the missing columns with median \n",
    "\n",
    "for i in ['LoanAmount']:\n",
    "    train_data[i] = train_data[i].fillna(train_data[i].median())\n",
    "    \n",
    "    \n",
    "    \n",
    "    \n",
    "# Filling the missing columns with mode\n",
    "\n",
    "for i in ['Dependents', 'Self_Employed', 'Credit_History', 'Married', 'Gender', 'Loan_Amount_Term']:\n",
    "    train_data[i] = train_data[i].fillna(train_data[i].mode()[0])\n",
    "    \n",
    "    \n",
    "    \n",
    "    \n",
    "    \n",
    "#Again Checking for Null values\n",
    "\n",
    "train_data.isna().sum()"
   ]
  },
  {
   "cell_type": "markdown",
   "id": "0167188b",
   "metadata": {},
   "source": [
    "**Checking skewness**"
   ]
  },
  {
   "cell_type": "code",
   "execution_count": 18,
   "id": "72e15d00",
   "metadata": {},
   "outputs": [
    {
     "name": "stderr",
     "output_type": "stream",
     "text": [
      "C:\\Users\\KRIZAL\\AppData\\Local\\Temp\\ipykernel_27516\\2403444796.py:1: FutureWarning: Dropping of nuisance columns in DataFrame reductions (with 'numeric_only=None') is deprecated; in a future version this will raise TypeError.  Select only valid columns before calling the reduction.\n",
      "  train_data.mean()\n"
     ]
    },
    {
     "data": {
      "text/plain": [
       "ApplicantIncome      5403.459283\n",
       "CoapplicantIncome    1621.245798\n",
       "LoanAmount            145.752443\n",
       "Loan_Amount_Term      342.410423\n",
       "Credit_History          0.855049\n",
       "dtype: float64"
      ]
     },
     "execution_count": 18,
     "metadata": {},
     "output_type": "execute_result"
    }
   ],
   "source": [
    "train_data.mean()"
   ]
  },
  {
   "cell_type": "code",
   "execution_count": 19,
   "id": "b0d25208",
   "metadata": {},
   "outputs": [
    {
     "name": "stdout",
     "output_type": "stream",
     "text": [
      "6.539513113994625\n",
      "7.491531216657306\n",
      "2.743052748820892\n",
      "-2.4021122563890396\n",
      "-2.0219705924848985\n"
     ]
    }
   ],
   "source": [
    "for i in num_feature:\n",
    "    skew_data = train_data[i].skew()\n",
    "    print(skew_data)"
   ]
  },
  {
   "cell_type": "markdown",
   "id": "be6d6ab1",
   "metadata": {},
   "source": [
    "## Outlier Handling "
   ]
  },
  {
   "cell_type": "code",
   "execution_count": 20,
   "id": "f00acdab",
   "metadata": {
    "scrolled": false
   },
   "outputs": [
    {
     "data": {
      "image/png": "[encoded data removed]",
      "text/plain": [
       "<Figure size 640x480 with 1 Axes>"
      ]
     },
     "metadata": {},
     "output_type": "display_data"
    },
    {
     "data": {
      "image/png": "[encoded data removed]",
      "text/plain": [
       "<Figure size 640x480 with 1 Axes>"
      ]
     },
     "metadata": {},
     "output_type": "display_data"
    },
    {
     "data": {
      "image/png": "[encoded data removed]",
      "text/plain": [
       "<Figure size 640x480 with 1 Axes>"
      ]
     },
     "metadata": {},
     "output_type": "display_data"
    },
    {
     "data": {
      "image/png": "[encoded data removed]",
      "text/plain": [
       "<Figure size 640x480 with 1 Axes>"
      ]
     },
     "metadata": {},
     "output_type": "display_data"
    },
    {
     "data": {
      "image/png": "[encoded data removed]",
      "text/plain": [
       "<Figure size 640x480 with 1 Axes>"
      ]
     },
     "metadata": {},
     "output_type": "display_data"
    }
   ],
   "source": [
    "for i in num_feature:\n",
    "    plt.boxplot(train_data[i])\n",
    "    plt.title(i)\n",
    "    plt.show()"
   ]
  },
  {
   "cell_type": "markdown",
   "id": "2bbfdcf4",
   "metadata": {},
   "source": [
    "### Finding rows which have outliers "
   ]
  },
  {
   "cell_type": "code",
   "execution_count": 21,
   "id": "03dcdae7",
   "metadata": {
    "scrolled": false
   },
   "outputs": [
    {
     "name": "stdout",
     "output_type": "stream",
     "text": [
      "Interquartile range: ApplicantIncome \n",
      "\n",
      "Q1: 2879.0\n",
      "Q2: 3812.5\n",
      "Q3: 5790.0\n",
      "\n",
      "IQR:2911.0\n",
      "\n",
      "Lower limit : -1487.5\n",
      "Upper limit : 10156.5\n",
      "\n",
      "Outlier: [12841, 12500, 11500, 10750, 13650, 11417, 14583, 10408, 23803, 10513, 20166, 14999, 11757, 14866, 39999, 51763, 33846, 39147, 12000, 11000, 16250, 14683, 11146, 14583, 20667, 20233, 15000, 63337, 19730, 15759, 81000, 14880, 12876, 10416, 37719, 16692, 16525, 16667, 10833, 18333, 17263, 20833, 13262, 17500, 11250, 18165, 19484, 16666, 16120, 12000]\n",
      "\n",
      "Index : Int64Index([  9,  34,  54,  67, 102, 106, 115, 119, 126, 128, 130, 138, 144,\n",
      "            146, 155, 171, 183, 185, 191, 199, 254, 258, 271, 278, 284, 308,\n",
      "            324, 333, 369, 370, 409, 424, 432, 438, 443, 467, 475, 478, 483,\n",
      "            487, 493, 506, 509, 525, 533, 534, 561, 572, 594, 604],\n",
      "           dtype='int64')\n",
      "\n",
      "Interquartile range: CoapplicantIncome \n",
      "\n",
      "Q1: 0.0\n",
      "Q2: 1188.5\n",
      "Q3: 2292.5\n",
      "\n",
      "IQR:2292.5\n",
      "\n",
      "Lower limit : -3438.75\n",
      "Upper limit : 5731.25\n",
      "\n",
      "Outlier: [10968.0, 8106.0, 7210.0, 8980.0, 7750.0, 11300.0, 7250.0, 7101.0, 6250.0, 7873.0, 20000.0, 20000.0, 8333.0, 6667.0, 6666.0, 7166.0, 33837.0, 41667.0]\n",
      "\n",
      "Index : Int64Index([  9,  12,  38, 122, 135, 177, 180, 253, 349, 372, 402, 417, 444,\n",
      "            506, 513, 523, 581, 600],\n",
      "           dtype='int64')\n",
      "\n",
      "Interquartile range: LoanAmount \n",
      "\n",
      "Q1: 100.5\n",
      "Q2: 128.0\n",
      "Q3: 164.5\n",
      "\n",
      "IQR:64.0\n",
      "\n",
      "Lower limit : 4.5\n",
      "Upper limit : 260.5\n",
      "\n",
      "Outlier: [267.0, 349.0, 315.0, 320.0, 286.0, 312.0, 265.0, 370.0, 650.0, 290.0, 600.0, 275.0, 700.0, 495.0, 280.0, 279.0, 304.0, 330.0, 436.0, 480.0, 300.0, 376.0, 490.0, 308.0, 570.0, 380.0, 296.0, 275.0, 360.0, 405.0, 500.0, 480.0, 311.0, 480.0, 400.0, 324.0, 600.0, 275.0, 292.0, 350.0, 496.0]\n",
      "\n",
      "Index : Int64Index([  5,   9,  21,  34,  54,  67,  83, 126, 130, 135, 155, 161, 171,\n",
      "            177, 233, 253, 258, 260, 278, 308, 324, 325, 333, 351, 369, 372,\n",
      "            381, 391, 409, 432, 487, 506, 514, 523, 525, 536, 561, 572, 592,\n",
      "            600, 604],\n",
      "           dtype='int64')\n",
      "\n",
      "Interquartile range: Loan_Amount_Term \n",
      "\n",
      "Q1: 360.0\n",
      "Q2: 360.0\n",
      "Q3: 360.0\n",
      "\n",
      "IQR:0.0\n",
      "\n",
      "Lower limit : 360.0\n",
      "Upper limit : 360.0\n",
      "\n",
      "Outlier: [120.0, 240.0, 180.0, 180.0, 60.0, 300.0, 480.0, 300.0, 240.0, 180.0, 120.0, 180.0, 180.0, 480.0, 180.0, 180.0, 480.0, 120.0, 180.0, 180.0, 180.0, 180.0, 480.0, 300.0, 180.0, 480.0, 180.0, 300.0, 180.0, 180.0, 480.0, 180.0, 180.0, 60.0, 180.0, 180.0, 480.0, 180.0, 36.0, 180.0, 300.0, 480.0, 480.0, 84.0, 180.0, 180.0, 180.0, 180.0, 480.0, 300.0, 480.0, 300.0, 180.0, 180.0, 480.0, 180.0, 180.0, 180.0, 300.0, 300.0, 180.0, 240.0, 300.0, 300.0, 180.0, 180.0, 180.0, 180.0, 300.0, 84.0, 12.0, 480.0, 300.0, 180.0, 480.0, 180.0, 180.0, 36.0, 180.0, 480.0, 84.0, 84.0, 180.0, 240.0, 180.0, 180.0, 180.0, 180.0]\n",
      "\n",
      "Index : Int64Index([75, 109, 130, 168, 179, 228, 248, 293, 298, 358, 366, 378, 500,\n",
      "            516, 573],\n",
      "           dtype='int64')\n",
      "\n",
      "Interquartile range: Credit_History \n",
      "\n",
      "Q1: 1.0\n",
      "Q2: 1.0\n",
      "Q3: 1.0\n",
      "\n",
      "IQR:0.0\n",
      "\n",
      "Lower limit : 1.0\n",
      "Upper limit : 1.0\n",
      "\n",
      "Outlier: [0.0, 0.0, 0.0, 0.0, 0.0, 0.0, 0.0, 0.0, 0.0, 0.0, 0.0, 0.0, 0.0, 0.0, 0.0, 0.0, 0.0, 0.0, 0.0, 0.0, 0.0, 0.0, 0.0, 0.0, 0.0, 0.0, 0.0, 0.0, 0.0, 0.0, 0.0, 0.0, 0.0, 0.0, 0.0, 0.0, 0.0, 0.0, 0.0, 0.0, 0.0, 0.0, 0.0, 0.0, 0.0, 0.0, 0.0, 0.0, 0.0, 0.0, 0.0, 0.0, 0.0, 0.0, 0.0, 0.0, 0.0, 0.0, 0.0, 0.0, 0.0, 0.0, 0.0, 0.0, 0.0, 0.0, 0.0, 0.0, 0.0, 0.0, 0.0, 0.0, 0.0, 0.0, 0.0, 0.0, 0.0, 0.0, 0.0, 0.0, 0.0, 0.0, 0.0, 0.0, 0.0, 0.0, 0.0, 0.0, 0.0]\n",
      "\n",
      "Index : Int64Index([], dtype='int64')\n",
      "\n"
     ]
    }
   ],
   "source": [
    "for i in num_feature:\n",
    "    \n",
    "    # Inter Quartile Range\n",
    "    \n",
    "    Q1 = np.percentile(train_data[i], 25,interpolation=\"midpoint\")\n",
    "    Q2 = np.percentile(train_data[i], 50,interpolation=\"midpoint\")\n",
    "    Q3 = np.percentile(train_data[i], 75,interpolation=\"midpoint\")\n",
    "    print(\"Interquartile range: {} \\n\".format(i))\n",
    "    print(\"Q1: {}\".format(Q1))\n",
    "    print(\"Q2: {}\".format(Q2))\n",
    "    print(\"Q3: {}\\n\".format(Q3))\n",
    "    \n",
    "    IQR = Q3-Q1\n",
    "    print(\"IQR:{}\\n\".format(IQR))\n",
    "    \n",
    "    # Limit identification\n",
    "    \n",
    "    low_limit = Q1-1.5*IQR\n",
    "    up_limit  = Q3+1.5*IQR\n",
    "    print(\"Lower limit : {}\".format(low_limit))\n",
    "    print(\"Upper limit : {}\\n\".format(up_limit))\n",
    "    \n",
    "    \n",
    "    # Finding outlier\n",
    "    \n",
    "    outlier= []\n",
    "    for x in train_data[i]:\n",
    "        if ((x>up_limit) or (x<low_limit)):\n",
    "            outlier.append(x)\n",
    "    print(\"Outlier: {}\\n\".format(outlier))\n",
    "    \n",
    "    \n",
    "    # Finding index colum with outlier\n",
    "\n",
    "    ind_out  = train_data[i]>up_limit\n",
    "    ind_data = train_data.loc[ind_out].index\n",
    "    print(\"Index : {}\\n\".format(ind_data))\n",
    "\n"
   ]
  },
  {
   "cell_type": "markdown",
   "id": "a7b79b70",
   "metadata": {},
   "source": [
    "**There are outliers present in the numerical features of the dataset but we're not dropping the rows with outliers**"
   ]
  },
  {
   "cell_type": "markdown",
   "id": "0a87f152",
   "metadata": {},
   "source": [
    "## Correlation Matrix "
   ]
  },
  {
   "cell_type": "code",
   "execution_count": 22,
   "id": "b959277e",
   "metadata": {},
   "outputs": [
    {
     "data": {
      "text/html": [
       "<div>\n",
       "<style scoped>\n",
       "    .dataframe tbody tr th:only-of-type {\n",
       "        vertical-align: middle;\n",
       "    }\n",
       "\n",
       "    .dataframe tbody tr th {\n",
       "        vertical-align: top;\n",
       "    }\n",
       "\n",
       "    .dataframe thead th {\n",
       "        text-align: right;\n",
       "    }\n",
       "</style>\n",
       "<table border=\"1\" class=\"dataframe\">\n",
       "  <thead>\n",
       "    <tr style=\"text-align: right;\">\n",
       "      <th></th>\n",
       "      <th>ApplicantIncome</th>\n",
       "      <th>CoapplicantIncome</th>\n",
       "      <th>LoanAmount</th>\n",
       "      <th>Loan_Amount_Term</th>\n",
       "      <th>Credit_History</th>\n",
       "    </tr>\n",
       "  </thead>\n",
       "  <tbody>\n",
       "    <tr>\n",
       "      <th>ApplicantIncome</th>\n",
       "      <td>1.000000</td>\n",
       "      <td>-0.116605</td>\n",
       "      <td>0.565181</td>\n",
       "      <td>-0.046531</td>\n",
       "      <td>-0.018615</td>\n",
       "    </tr>\n",
       "    <tr>\n",
       "      <th>CoapplicantIncome</th>\n",
       "      <td>-0.116605</td>\n",
       "      <td>1.000000</td>\n",
       "      <td>0.189218</td>\n",
       "      <td>-0.059383</td>\n",
       "      <td>0.011134</td>\n",
       "    </tr>\n",
       "    <tr>\n",
       "      <th>LoanAmount</th>\n",
       "      <td>0.565181</td>\n",
       "      <td>0.189218</td>\n",
       "      <td>1.000000</td>\n",
       "      <td>0.036960</td>\n",
       "      <td>-0.000607</td>\n",
       "    </tr>\n",
       "    <tr>\n",
       "      <th>Loan_Amount_Term</th>\n",
       "      <td>-0.046531</td>\n",
       "      <td>-0.059383</td>\n",
       "      <td>0.036960</td>\n",
       "      <td>1.000000</td>\n",
       "      <td>-0.004705</td>\n",
       "    </tr>\n",
       "    <tr>\n",
       "      <th>Credit_History</th>\n",
       "      <td>-0.018615</td>\n",
       "      <td>0.011134</td>\n",
       "      <td>-0.000607</td>\n",
       "      <td>-0.004705</td>\n",
       "      <td>1.000000</td>\n",
       "    </tr>\n",
       "  </tbody>\n",
       "</table>\n",
       "</div>"
      ],
      "text/plain": [
       "                   ApplicantIncome  CoapplicantIncome  LoanAmount  \\\n",
       "ApplicantIncome           1.000000          -0.116605    0.565181   \n",
       "CoapplicantIncome        -0.116605           1.000000    0.189218   \n",
       "LoanAmount                0.565181           0.189218    1.000000   \n",
       "Loan_Amount_Term         -0.046531          -0.059383    0.036960   \n",
       "Credit_History           -0.018615           0.011134   -0.000607   \n",
       "\n",
       "                   Loan_Amount_Term  Credit_History  \n",
       "ApplicantIncome           -0.046531       -0.018615  \n",
       "CoapplicantIncome         -0.059383        0.011134  \n",
       "LoanAmount                 0.036960       -0.000607  \n",
       "Loan_Amount_Term           1.000000       -0.004705  \n",
       "Credit_History            -0.004705        1.000000  "
      ]
     },
     "execution_count": 22,
     "metadata": {},
     "output_type": "execute_result"
    },
    {
     "data": {
      "image/png": "[encoded data removed]",
      "text/plain": [
       "<Figure size 1500x800 with 2 Axes>"
      ]
     },
     "metadata": {},
     "output_type": "display_data"
    }
   ],
   "source": [
    "corrmatrix = train_data.corr()\n",
    "plt.subplots(figsize =(15,8))\n",
    "plt.title(\"Correlation matrix for numerical features  \\n\", size = 20)\n",
    "sns.heatmap(corrmatrix, annot=True, cmap=\"YlGnBu\")\n",
    "corrmatrix"
   ]
  },
  {
   "cell_type": "code",
   "execution_count": 23,
   "id": "16c95d64",
   "metadata": {},
   "outputs": [
    {
     "data": {
      "text/html": [
       "<div>\n",
       "<style scoped>\n",
       "    .dataframe tbody tr th:only-of-type {\n",
       "        vertical-align: middle;\n",
       "    }\n",
       "\n",
       "    .dataframe tbody tr th {\n",
       "        vertical-align: top;\n",
       "    }\n",
       "\n",
       "    .dataframe thead th {\n",
       "        text-align: right;\n",
       "    }\n",
       "</style>\n",
       "<table border=\"1\" class=\"dataframe\">\n",
       "  <thead>\n",
       "    <tr style=\"text-align: right;\">\n",
       "      <th></th>\n",
       "      <th>Loan_ID</th>\n",
       "      <th>Gender</th>\n",
       "      <th>Married</th>\n",
       "      <th>Dependents</th>\n",
       "      <th>Education</th>\n",
       "      <th>Self_Employed</th>\n",
       "      <th>ApplicantIncome</th>\n",
       "      <th>CoapplicantIncome</th>\n",
       "      <th>LoanAmount</th>\n",
       "      <th>Loan_Amount_Term</th>\n",
       "      <th>Credit_History</th>\n",
       "      <th>Property_Area</th>\n",
       "      <th>Loan_Status</th>\n",
       "    </tr>\n",
       "  </thead>\n",
       "  <tbody>\n",
       "    <tr>\n",
       "      <th>0</th>\n",
       "      <td>LP001002</td>\n",
       "      <td>Male</td>\n",
       "      <td>No</td>\n",
       "      <td>0</td>\n",
       "      <td>Graduate</td>\n",
       "      <td>No</td>\n",
       "      <td>5849</td>\n",
       "      <td>0.0</td>\n",
       "      <td>128.0</td>\n",
       "      <td>360.0</td>\n",
       "      <td>1.0</td>\n",
       "      <td>Urban</td>\n",
       "      <td>Y</td>\n",
       "    </tr>\n",
       "    <tr>\n",
       "      <th>1</th>\n",
       "      <td>LP001003</td>\n",
       "      <td>Male</td>\n",
       "      <td>Yes</td>\n",
       "      <td>1</td>\n",
       "      <td>Graduate</td>\n",
       "      <td>No</td>\n",
       "      <td>4583</td>\n",
       "      <td>1508.0</td>\n",
       "      <td>128.0</td>\n",
       "      <td>360.0</td>\n",
       "      <td>1.0</td>\n",
       "      <td>Rural</td>\n",
       "      <td>N</td>\n",
       "    </tr>\n",
       "    <tr>\n",
       "      <th>2</th>\n",
       "      <td>LP001005</td>\n",
       "      <td>Male</td>\n",
       "      <td>Yes</td>\n",
       "      <td>0</td>\n",
       "      <td>Graduate</td>\n",
       "      <td>Yes</td>\n",
       "      <td>3000</td>\n",
       "      <td>0.0</td>\n",
       "      <td>66.0</td>\n",
       "      <td>360.0</td>\n",
       "      <td>1.0</td>\n",
       "      <td>Urban</td>\n",
       "      <td>Y</td>\n",
       "    </tr>\n",
       "    <tr>\n",
       "      <th>3</th>\n",
       "      <td>LP001006</td>\n",
       "      <td>Male</td>\n",
       "      <td>Yes</td>\n",
       "      <td>0</td>\n",
       "      <td>Not Graduate</td>\n",
       "      <td>No</td>\n",
       "      <td>2583</td>\n",
       "      <td>2358.0</td>\n",
       "      <td>120.0</td>\n",
       "      <td>360.0</td>\n",
       "      <td>1.0</td>\n",
       "      <td>Urban</td>\n",
       "      <td>Y</td>\n",
       "    </tr>\n",
       "    <tr>\n",
       "      <th>4</th>\n",
       "      <td>LP001008</td>\n",
       "      <td>Male</td>\n",
       "      <td>No</td>\n",
       "      <td>0</td>\n",
       "      <td>Graduate</td>\n",
       "      <td>No</td>\n",
       "      <td>6000</td>\n",
       "      <td>0.0</td>\n",
       "      <td>141.0</td>\n",
       "      <td>360.0</td>\n",
       "      <td>1.0</td>\n",
       "      <td>Urban</td>\n",
       "      <td>Y</td>\n",
       "    </tr>\n",
       "  </tbody>\n",
       "</table>\n",
       "</div>"
      ],
      "text/plain": [
       "    Loan_ID Gender Married Dependents     Education Self_Employed  \\\n",
       "0  LP001002   Male      No          0      Graduate            No   \n",
       "1  LP001003   Male     Yes          1      Graduate            No   \n",
       "2  LP001005   Male     Yes          0      Graduate           Yes   \n",
       "3  LP001006   Male     Yes          0  Not Graduate            No   \n",
       "4  LP001008   Male      No          0      Graduate            No   \n",
       "\n",
       "   ApplicantIncome  CoapplicantIncome  LoanAmount  Loan_Amount_Term  \\\n",
       "0             5849                0.0       128.0             360.0   \n",
       "1             4583             1508.0       128.0             360.0   \n",
       "2             3000                0.0        66.0             360.0   \n",
       "3             2583             2358.0       120.0             360.0   \n",
       "4             6000                0.0       141.0             360.0   \n",
       "\n",
       "   Credit_History Property_Area Loan_Status  \n",
       "0             1.0         Urban           Y  \n",
       "1             1.0         Rural           N  \n",
       "2             1.0         Urban           Y  \n",
       "3             1.0         Urban           Y  \n",
       "4             1.0         Urban           Y  "
      ]
     },
     "execution_count": 23,
     "metadata": {},
     "output_type": "execute_result"
    }
   ],
   "source": [
    "train_data.head()"
   ]
  },
  {
   "cell_type": "code",
   "execution_count": 24,
   "id": "93361dda",
   "metadata": {},
   "outputs": [
    {
     "data": {
      "text/html": [
       "<div>\n",
       "<style scoped>\n",
       "    .dataframe tbody tr th:only-of-type {\n",
       "        vertical-align: middle;\n",
       "    }\n",
       "\n",
       "    .dataframe tbody tr th {\n",
       "        vertical-align: top;\n",
       "    }\n",
       "\n",
       "    .dataframe thead th {\n",
       "        text-align: right;\n",
       "    }\n",
       "</style>\n",
       "<table border=\"1\" class=\"dataframe\">\n",
       "  <thead>\n",
       "    <tr style=\"text-align: right;\">\n",
       "      <th></th>\n",
       "      <th>ApplicantIncome</th>\n",
       "      <th>CoapplicantIncome</th>\n",
       "      <th>LoanAmount</th>\n",
       "      <th>Loan_Amount_Term</th>\n",
       "      <th>Credit_History</th>\n",
       "    </tr>\n",
       "  </thead>\n",
       "  <tbody>\n",
       "    <tr>\n",
       "      <th>count</th>\n",
       "      <td>614.000000</td>\n",
       "      <td>614.000000</td>\n",
       "      <td>614.000000</td>\n",
       "      <td>614.000000</td>\n",
       "      <td>614.000000</td>\n",
       "    </tr>\n",
       "    <tr>\n",
       "      <th>mean</th>\n",
       "      <td>5403.459283</td>\n",
       "      <td>1621.245798</td>\n",
       "      <td>145.752443</td>\n",
       "      <td>342.410423</td>\n",
       "      <td>0.855049</td>\n",
       "    </tr>\n",
       "    <tr>\n",
       "      <th>std</th>\n",
       "      <td>6109.041673</td>\n",
       "      <td>2926.248369</td>\n",
       "      <td>84.107233</td>\n",
       "      <td>64.428629</td>\n",
       "      <td>0.352339</td>\n",
       "    </tr>\n",
       "    <tr>\n",
       "      <th>min</th>\n",
       "      <td>150.000000</td>\n",
       "      <td>0.000000</td>\n",
       "      <td>9.000000</td>\n",
       "      <td>12.000000</td>\n",
       "      <td>0.000000</td>\n",
       "    </tr>\n",
       "    <tr>\n",
       "      <th>25%</th>\n",
       "      <td>2877.500000</td>\n",
       "      <td>0.000000</td>\n",
       "      <td>100.250000</td>\n",
       "      <td>360.000000</td>\n",
       "      <td>1.000000</td>\n",
       "    </tr>\n",
       "    <tr>\n",
       "      <th>50%</th>\n",
       "      <td>3812.500000</td>\n",
       "      <td>1188.500000</td>\n",
       "      <td>128.000000</td>\n",
       "      <td>360.000000</td>\n",
       "      <td>1.000000</td>\n",
       "    </tr>\n",
       "    <tr>\n",
       "      <th>75%</th>\n",
       "      <td>5795.000000</td>\n",
       "      <td>2297.250000</td>\n",
       "      <td>164.750000</td>\n",
       "      <td>360.000000</td>\n",
       "      <td>1.000000</td>\n",
       "    </tr>\n",
       "    <tr>\n",
       "      <th>max</th>\n",
       "      <td>81000.000000</td>\n",
       "      <td>41667.000000</td>\n",
       "      <td>700.000000</td>\n",
       "      <td>480.000000</td>\n",
       "      <td>1.000000</td>\n",
       "    </tr>\n",
       "  </tbody>\n",
       "</table>\n",
       "</div>"
      ],
      "text/plain": [
       "       ApplicantIncome  CoapplicantIncome  LoanAmount  Loan_Amount_Term  \\\n",
       "count       614.000000         614.000000  614.000000        614.000000   \n",
       "mean       5403.459283        1621.245798  145.752443        342.410423   \n",
       "std        6109.041673        2926.248369   84.107233         64.428629   \n",
       "min         150.000000           0.000000    9.000000         12.000000   \n",
       "25%        2877.500000           0.000000  100.250000        360.000000   \n",
       "50%        3812.500000        1188.500000  128.000000        360.000000   \n",
       "75%        5795.000000        2297.250000  164.750000        360.000000   \n",
       "max       81000.000000       41667.000000  700.000000        480.000000   \n",
       "\n",
       "       Credit_History  \n",
       "count      614.000000  \n",
       "mean         0.855049  \n",
       "std          0.352339  \n",
       "min          0.000000  \n",
       "25%          1.000000  \n",
       "50%          1.000000  \n",
       "75%          1.000000  \n",
       "max          1.000000  "
      ]
     },
     "execution_count": 24,
     "metadata": {},
     "output_type": "execute_result"
    }
   ],
   "source": [
    "train_data.describe()"
   ]
  },
  {
   "cell_type": "code",
   "execution_count": 25,
   "id": "d29a784d",
   "metadata": {},
   "outputs": [],
   "source": [
    "train_data = train_data.drop(\"Loan_ID\", axis = 1)"
   ]
  },
  {
   "cell_type": "markdown",
   "id": "4436f5d3",
   "metadata": {},
   "source": [
    "## Label Encoding "
   ]
  },
  {
   "cell_type": "code",
   "execution_count": 26,
   "id": "9dceff17",
   "metadata": {},
   "outputs": [
    {
     "data": {
      "text/plain": [
       "4"
      ]
     },
     "execution_count": 26,
     "metadata": {},
     "output_type": "execute_result"
    }
   ],
   "source": [
    "train_data[\"Dependents\"].nunique()"
   ]
  },
  {
   "cell_type": "code",
   "execution_count": 27,
   "id": "35bd85fc",
   "metadata": {},
   "outputs": [
    {
     "data": {
      "text/plain": [
       "Index(['Gender', 'Married', 'Dependents', 'Education', 'Self_Employed',\n",
       "       'ApplicantIncome', 'CoapplicantIncome', 'LoanAmount',\n",
       "       'Loan_Amount_Term', 'Credit_History', 'Property_Area', 'Loan_Status'],\n",
       "      dtype='object')"
      ]
     },
     "execution_count": 27,
     "metadata": {},
     "output_type": "execute_result"
    }
   ],
   "source": [
    "train_data.columns"
   ]
  },
  {
   "cell_type": "code",
   "execution_count": 28,
   "id": "6d24ddd8",
   "metadata": {},
   "outputs": [],
   "source": [
    "from sklearn import preprocessing\n",
    "\n",
    "from sklearn.preprocessing import LabelEncoder\n",
    "\n",
    "le = LabelEncoder()\n",
    "for i in ['Gender', 'Married', 'Dependents', 'Education', 'Self_Employed', 'Property_Area', 'Loan_Status']:\n",
    "    train_data[i] = le.fit_transform(train_data[i])"
   ]
  },
  {
   "cell_type": "code",
   "execution_count": 29,
   "id": "1945d29f",
   "metadata": {},
   "outputs": [
    {
     "data": {
      "text/html": [
       "<div>\n",
       "<style scoped>\n",
       "    .dataframe tbody tr th:only-of-type {\n",
       "        vertical-align: middle;\n",
       "    }\n",
       "\n",
       "    .dataframe tbody tr th {\n",
       "        vertical-align: top;\n",
       "    }\n",
       "\n",
       "    .dataframe thead th {\n",
       "        text-align: right;\n",
       "    }\n",
       "</style>\n",
       "<table border=\"1\" class=\"dataframe\">\n",
       "  <thead>\n",
       "    <tr style=\"text-align: right;\">\n",
       "      <th></th>\n",
       "      <th>Gender</th>\n",
       "      <th>Married</th>\n",
       "      <th>Dependents</th>\n",
       "      <th>Education</th>\n",
       "      <th>Self_Employed</th>\n",
       "      <th>ApplicantIncome</th>\n",
       "      <th>CoapplicantIncome</th>\n",
       "      <th>LoanAmount</th>\n",
       "      <th>Loan_Amount_Term</th>\n",
       "      <th>Credit_History</th>\n",
       "      <th>Property_Area</th>\n",
       "      <th>Loan_Status</th>\n",
       "    </tr>\n",
       "  </thead>\n",
       "  <tbody>\n",
       "    <tr>\n",
       "      <th>0</th>\n",
       "      <td>1</td>\n",
       "      <td>0</td>\n",
       "      <td>0</td>\n",
       "      <td>0</td>\n",
       "      <td>0</td>\n",
       "      <td>5849</td>\n",
       "      <td>0.0</td>\n",
       "      <td>128.0</td>\n",
       "      <td>360.0</td>\n",
       "      <td>1.0</td>\n",
       "      <td>2</td>\n",
       "      <td>1</td>\n",
       "    </tr>\n",
       "    <tr>\n",
       "      <th>1</th>\n",
       "      <td>1</td>\n",
       "      <td>1</td>\n",
       "      <td>1</td>\n",
       "      <td>0</td>\n",
       "      <td>0</td>\n",
       "      <td>4583</td>\n",
       "      <td>1508.0</td>\n",
       "      <td>128.0</td>\n",
       "      <td>360.0</td>\n",
       "      <td>1.0</td>\n",
       "      <td>0</td>\n",
       "      <td>0</td>\n",
       "    </tr>\n",
       "    <tr>\n",
       "      <th>2</th>\n",
       "      <td>1</td>\n",
       "      <td>1</td>\n",
       "      <td>0</td>\n",
       "      <td>0</td>\n",
       "      <td>1</td>\n",
       "      <td>3000</td>\n",
       "      <td>0.0</td>\n",
       "      <td>66.0</td>\n",
       "      <td>360.0</td>\n",
       "      <td>1.0</td>\n",
       "      <td>2</td>\n",
       "      <td>1</td>\n",
       "    </tr>\n",
       "    <tr>\n",
       "      <th>3</th>\n",
       "      <td>1</td>\n",
       "      <td>1</td>\n",
       "      <td>0</td>\n",
       "      <td>1</td>\n",
       "      <td>0</td>\n",
       "      <td>2583</td>\n",
       "      <td>2358.0</td>\n",
       "      <td>120.0</td>\n",
       "      <td>360.0</td>\n",
       "      <td>1.0</td>\n",
       "      <td>2</td>\n",
       "      <td>1</td>\n",
       "    </tr>\n",
       "    <tr>\n",
       "      <th>4</th>\n",
       "      <td>1</td>\n",
       "      <td>0</td>\n",
       "      <td>0</td>\n",
       "      <td>0</td>\n",
       "      <td>0</td>\n",
       "      <td>6000</td>\n",
       "      <td>0.0</td>\n",
       "      <td>141.0</td>\n",
       "      <td>360.0</td>\n",
       "      <td>1.0</td>\n",
       "      <td>2</td>\n",
       "      <td>1</td>\n",
       "    </tr>\n",
       "  </tbody>\n",
       "</table>\n",
       "</div>"
      ],
      "text/plain": [
       "   Gender  Married  Dependents  Education  Self_Employed  ApplicantIncome  \\\n",
       "0       1        0           0          0              0             5849   \n",
       "1       1        1           1          0              0             4583   \n",
       "2       1        1           0          0              1             3000   \n",
       "3       1        1           0          1              0             2583   \n",
       "4       1        0           0          0              0             6000   \n",
       "\n",
       "   CoapplicantIncome  LoanAmount  Loan_Amount_Term  Credit_History  \\\n",
       "0                0.0       128.0             360.0             1.0   \n",
       "1             1508.0       128.0             360.0             1.0   \n",
       "2                0.0        66.0             360.0             1.0   \n",
       "3             2358.0       120.0             360.0             1.0   \n",
       "4                0.0       141.0             360.0             1.0   \n",
       "\n",
       "   Property_Area  Loan_Status  \n",
       "0              2            1  \n",
       "1              0            0  \n",
       "2              2            1  \n",
       "3              2            1  \n",
       "4              2            1  "
      ]
     },
     "execution_count": 29,
     "metadata": {},
     "output_type": "execute_result"
    }
   ],
   "source": [
    "train_data.head(5)"
   ]
  },
  {
   "cell_type": "markdown",
   "id": "9a6f8060",
   "metadata": {},
   "source": [
    "## Standard Scaler"
   ]
  },
  {
   "cell_type": "code",
   "execution_count": 30,
   "id": "2f9fd0cb",
   "metadata": {},
   "outputs": [
    {
     "data": {
      "text/plain": [
       "Index(['ApplicantIncome', 'CoapplicantIncome', 'LoanAmount',\n",
       "       'Loan_Amount_Term', 'Credit_History'],\n",
       "      dtype='object')"
      ]
     },
     "execution_count": 30,
     "metadata": {},
     "output_type": "execute_result"
    }
   ],
   "source": [
    "# Dropping encoded columns\n",
    "\n",
    "train_data1 = train_data.drop(['Gender','Married','Dependents','Education','Self_Employed','Property_Area','Loan_Status'],axis=1)\n",
    "train_data1.columns"
   ]
  },
  {
   "cell_type": "code",
   "execution_count": 31,
   "id": "ed521581",
   "metadata": {},
   "outputs": [
    {
     "data": {
      "text/html": [
       "<div>\n",
       "<style scoped>\n",
       "    .dataframe tbody tr th:only-of-type {\n",
       "        vertical-align: middle;\n",
       "    }\n",
       "\n",
       "    .dataframe tbody tr th {\n",
       "        vertical-align: top;\n",
       "    }\n",
       "\n",
       "    .dataframe thead th {\n",
       "        text-align: right;\n",
       "    }\n",
       "</style>\n",
       "<table border=\"1\" class=\"dataframe\">\n",
       "  <thead>\n",
       "    <tr style=\"text-align: right;\">\n",
       "      <th></th>\n",
       "      <th>ApplicantIncome</th>\n",
       "      <th>CoapplicantIncome</th>\n",
       "      <th>LoanAmount</th>\n",
       "      <th>Loan_Amount_Term</th>\n",
       "      <th>Credit_History</th>\n",
       "    </tr>\n",
       "  </thead>\n",
       "  <tbody>\n",
       "    <tr>\n",
       "      <th>0</th>\n",
       "      <td>5849</td>\n",
       "      <td>0.0</td>\n",
       "      <td>128.0</td>\n",
       "      <td>360.0</td>\n",
       "      <td>1.0</td>\n",
       "    </tr>\n",
       "    <tr>\n",
       "      <th>1</th>\n",
       "      <td>4583</td>\n",
       "      <td>1508.0</td>\n",
       "      <td>128.0</td>\n",
       "      <td>360.0</td>\n",
       "      <td>1.0</td>\n",
       "    </tr>\n",
       "    <tr>\n",
       "      <th>2</th>\n",
       "      <td>3000</td>\n",
       "      <td>0.0</td>\n",
       "      <td>66.0</td>\n",
       "      <td>360.0</td>\n",
       "      <td>1.0</td>\n",
       "    </tr>\n",
       "    <tr>\n",
       "      <th>3</th>\n",
       "      <td>2583</td>\n",
       "      <td>2358.0</td>\n",
       "      <td>120.0</td>\n",
       "      <td>360.0</td>\n",
       "      <td>1.0</td>\n",
       "    </tr>\n",
       "    <tr>\n",
       "      <th>4</th>\n",
       "      <td>6000</td>\n",
       "      <td>0.0</td>\n",
       "      <td>141.0</td>\n",
       "      <td>360.0</td>\n",
       "      <td>1.0</td>\n",
       "    </tr>\n",
       "  </tbody>\n",
       "</table>\n",
       "</div>"
      ],
      "text/plain": [
       "   ApplicantIncome  CoapplicantIncome  LoanAmount  Loan_Amount_Term  \\\n",
       "0             5849                0.0       128.0             360.0   \n",
       "1             4583             1508.0       128.0             360.0   \n",
       "2             3000                0.0        66.0             360.0   \n",
       "3             2583             2358.0       120.0             360.0   \n",
       "4             6000                0.0       141.0             360.0   \n",
       "\n",
       "   Credit_History  \n",
       "0             1.0  \n",
       "1             1.0  \n",
       "2             1.0  \n",
       "3             1.0  \n",
       "4             1.0  "
      ]
     },
     "execution_count": 31,
     "metadata": {},
     "output_type": "execute_result"
    }
   ],
   "source": [
    "train_data1.head()"
   ]
  },
  {
   "cell_type": "code",
   "execution_count": 32,
   "id": "c8c305a6",
   "metadata": {},
   "outputs": [
    {
     "data": {
      "text/html": [
       "<div>\n",
       "<style scoped>\n",
       "    .dataframe tbody tr th:only-of-type {\n",
       "        vertical-align: middle;\n",
       "    }\n",
       "\n",
       "    .dataframe tbody tr th {\n",
       "        vertical-align: top;\n",
       "    }\n",
       "\n",
       "    .dataframe thead th {\n",
       "        text-align: right;\n",
       "    }\n",
       "</style>\n",
       "<table border=\"1\" class=\"dataframe\">\n",
       "  <thead>\n",
       "    <tr style=\"text-align: right;\">\n",
       "      <th></th>\n",
       "      <th>Gender</th>\n",
       "      <th>Married</th>\n",
       "      <th>Dependents</th>\n",
       "      <th>Education</th>\n",
       "      <th>Self_Employed</th>\n",
       "      <th>Property_Area</th>\n",
       "      <th>Loan_Status</th>\n",
       "    </tr>\n",
       "  </thead>\n",
       "  <tbody>\n",
       "    <tr>\n",
       "      <th>0</th>\n",
       "      <td>1</td>\n",
       "      <td>0</td>\n",
       "      <td>0</td>\n",
       "      <td>0</td>\n",
       "      <td>0</td>\n",
       "      <td>2</td>\n",
       "      <td>1</td>\n",
       "    </tr>\n",
       "    <tr>\n",
       "      <th>1</th>\n",
       "      <td>1</td>\n",
       "      <td>1</td>\n",
       "      <td>1</td>\n",
       "      <td>0</td>\n",
       "      <td>0</td>\n",
       "      <td>0</td>\n",
       "      <td>0</td>\n",
       "    </tr>\n",
       "    <tr>\n",
       "      <th>2</th>\n",
       "      <td>1</td>\n",
       "      <td>1</td>\n",
       "      <td>0</td>\n",
       "      <td>0</td>\n",
       "      <td>1</td>\n",
       "      <td>2</td>\n",
       "      <td>1</td>\n",
       "    </tr>\n",
       "    <tr>\n",
       "      <th>3</th>\n",
       "      <td>1</td>\n",
       "      <td>1</td>\n",
       "      <td>0</td>\n",
       "      <td>1</td>\n",
       "      <td>0</td>\n",
       "      <td>2</td>\n",
       "      <td>1</td>\n",
       "    </tr>\n",
       "    <tr>\n",
       "      <th>4</th>\n",
       "      <td>1</td>\n",
       "      <td>0</td>\n",
       "      <td>0</td>\n",
       "      <td>0</td>\n",
       "      <td>0</td>\n",
       "      <td>2</td>\n",
       "      <td>1</td>\n",
       "    </tr>\n",
       "  </tbody>\n",
       "</table>\n",
       "</div>"
      ],
      "text/plain": [
       "   Gender  Married  Dependents  Education  Self_Employed  Property_Area  \\\n",
       "0       1        0           0          0              0              2   \n",
       "1       1        1           1          0              0              0   \n",
       "2       1        1           0          0              1              2   \n",
       "3       1        1           0          1              0              2   \n",
       "4       1        0           0          0              0              2   \n",
       "\n",
       "   Loan_Status  \n",
       "0            1  \n",
       "1            0  \n",
       "2            1  \n",
       "3            1  \n",
       "4            1  "
      ]
     },
     "execution_count": 32,
     "metadata": {},
     "output_type": "execute_result"
    }
   ],
   "source": [
    "train_data2 = train_data[['Gender','Married','Dependents','Education','Self_Employed','Property_Area','Loan_Status']]\n",
    "train_data2.head()"
   ]
  },
  {
   "cell_type": "code",
   "execution_count": 33,
   "id": "5e000d4b",
   "metadata": {},
   "outputs": [],
   "source": [
    "from sklearn.preprocessing import StandardScaler\n",
    "\n",
    "stdclr = StandardScaler()\n",
    "train_data3  = stdclr.fit_transform(train_data1)"
   ]
  },
  {
   "cell_type": "code",
   "execution_count": 34,
   "id": "8195ff4b",
   "metadata": {},
   "outputs": [
    {
     "data": {
      "text/plain": [
       "array([[ 0.07299082, -0.55448733, -0.21124125,  0.2732313 ,  0.41173269],\n",
       "       [-0.13441195, -0.03873155, -0.21124125,  0.2732313 ,  0.41173269],\n",
       "       [-0.39374734, -0.55448733, -0.94899647,  0.2732313 ,  0.41173269],\n",
       "       ...,\n",
       "       [ 0.43717437, -0.47240418,  1.27616847,  0.2732313 ,  0.41173269],\n",
       "       [ 0.35706382, -0.55448733,  0.49081614,  0.2732313 ,  0.41173269],\n",
       "       [-0.13441195, -0.55448733, -0.15174486,  0.2732313 , -2.42876026]])"
      ]
     },
     "execution_count": 34,
     "metadata": {},
     "output_type": "execute_result"
    }
   ],
   "source": [
    "train_data3"
   ]
  },
  {
   "cell_type": "code",
   "execution_count": 35,
   "id": "70cf91f6",
   "metadata": {},
   "outputs": [],
   "source": [
    "train_data3 = pd.DataFrame(train_data3, columns = ['ApplicantIncome', 'CoapplicantIncome', 'LoanAmount',\n",
    "       'Loan_Amount_Term', 'Credit_History'])"
   ]
  },
  {
   "cell_type": "code",
   "execution_count": 36,
   "id": "8bab56ce",
   "metadata": {},
   "outputs": [
    {
     "data": {
      "text/html": [
       "<div>\n",
       "<style scoped>\n",
       "    .dataframe tbody tr th:only-of-type {\n",
       "        vertical-align: middle;\n",
       "    }\n",
       "\n",
       "    .dataframe tbody tr th {\n",
       "        vertical-align: top;\n",
       "    }\n",
       "\n",
       "    .dataframe thead th {\n",
       "        text-align: right;\n",
       "    }\n",
       "</style>\n",
       "<table border=\"1\" class=\"dataframe\">\n",
       "  <thead>\n",
       "    <tr style=\"text-align: right;\">\n",
       "      <th></th>\n",
       "      <th>ApplicantIncome</th>\n",
       "      <th>CoapplicantIncome</th>\n",
       "      <th>LoanAmount</th>\n",
       "      <th>Loan_Amount_Term</th>\n",
       "      <th>Credit_History</th>\n",
       "    </tr>\n",
       "  </thead>\n",
       "  <tbody>\n",
       "    <tr>\n",
       "      <th>0</th>\n",
       "      <td>0.072991</td>\n",
       "      <td>-0.554487</td>\n",
       "      <td>-0.211241</td>\n",
       "      <td>0.273231</td>\n",
       "      <td>0.411733</td>\n",
       "    </tr>\n",
       "    <tr>\n",
       "      <th>1</th>\n",
       "      <td>-0.134412</td>\n",
       "      <td>-0.038732</td>\n",
       "      <td>-0.211241</td>\n",
       "      <td>0.273231</td>\n",
       "      <td>0.411733</td>\n",
       "    </tr>\n",
       "    <tr>\n",
       "      <th>2</th>\n",
       "      <td>-0.393747</td>\n",
       "      <td>-0.554487</td>\n",
       "      <td>-0.948996</td>\n",
       "      <td>0.273231</td>\n",
       "      <td>0.411733</td>\n",
       "    </tr>\n",
       "    <tr>\n",
       "      <th>3</th>\n",
       "      <td>-0.462062</td>\n",
       "      <td>0.251980</td>\n",
       "      <td>-0.306435</td>\n",
       "      <td>0.273231</td>\n",
       "      <td>0.411733</td>\n",
       "    </tr>\n",
       "    <tr>\n",
       "      <th>4</th>\n",
       "      <td>0.097728</td>\n",
       "      <td>-0.554487</td>\n",
       "      <td>-0.056551</td>\n",
       "      <td>0.273231</td>\n",
       "      <td>0.411733</td>\n",
       "    </tr>\n",
       "    <tr>\n",
       "      <th>...</th>\n",
       "      <td>...</td>\n",
       "      <td>...</td>\n",
       "      <td>...</td>\n",
       "      <td>...</td>\n",
       "      <td>...</td>\n",
       "    </tr>\n",
       "    <tr>\n",
       "      <th>609</th>\n",
       "      <td>-0.410130</td>\n",
       "      <td>-0.554487</td>\n",
       "      <td>-0.889500</td>\n",
       "      <td>0.273231</td>\n",
       "      <td>0.411733</td>\n",
       "    </tr>\n",
       "    <tr>\n",
       "      <th>610</th>\n",
       "      <td>-0.212557</td>\n",
       "      <td>-0.554487</td>\n",
       "      <td>-1.258378</td>\n",
       "      <td>-2.522836</td>\n",
       "      <td>0.411733</td>\n",
       "    </tr>\n",
       "    <tr>\n",
       "      <th>611</th>\n",
       "      <td>0.437174</td>\n",
       "      <td>-0.472404</td>\n",
       "      <td>1.276168</td>\n",
       "      <td>0.273231</td>\n",
       "      <td>0.411733</td>\n",
       "    </tr>\n",
       "    <tr>\n",
       "      <th>612</th>\n",
       "      <td>0.357064</td>\n",
       "      <td>-0.554487</td>\n",
       "      <td>0.490816</td>\n",
       "      <td>0.273231</td>\n",
       "      <td>0.411733</td>\n",
       "    </tr>\n",
       "    <tr>\n",
       "      <th>613</th>\n",
       "      <td>-0.134412</td>\n",
       "      <td>-0.554487</td>\n",
       "      <td>-0.151745</td>\n",
       "      <td>0.273231</td>\n",
       "      <td>-2.428760</td>\n",
       "    </tr>\n",
       "  </tbody>\n",
       "</table>\n",
       "<p>614 rows × 5 columns</p>\n",
       "</div>"
      ],
      "text/plain": [
       "     ApplicantIncome  CoapplicantIncome  LoanAmount  Loan_Amount_Term  \\\n",
       "0           0.072991          -0.554487   -0.211241          0.273231   \n",
       "1          -0.134412          -0.038732   -0.211241          0.273231   \n",
       "2          -0.393747          -0.554487   -0.948996          0.273231   \n",
       "3          -0.462062           0.251980   -0.306435          0.273231   \n",
       "4           0.097728          -0.554487   -0.056551          0.273231   \n",
       "..               ...                ...         ...               ...   \n",
       "609        -0.410130          -0.554487   -0.889500          0.273231   \n",
       "610        -0.212557          -0.554487   -1.258378         -2.522836   \n",
       "611         0.437174          -0.472404    1.276168          0.273231   \n",
       "612         0.357064          -0.554487    0.490816          0.273231   \n",
       "613        -0.134412          -0.554487   -0.151745          0.273231   \n",
       "\n",
       "     Credit_History  \n",
       "0          0.411733  \n",
       "1          0.411733  \n",
       "2          0.411733  \n",
       "3          0.411733  \n",
       "4          0.411733  \n",
       "..              ...  \n",
       "609        0.411733  \n",
       "610        0.411733  \n",
       "611        0.411733  \n",
       "612        0.411733  \n",
       "613       -2.428760  \n",
       "\n",
       "[614 rows x 5 columns]"
      ]
     },
     "execution_count": 36,
     "metadata": {},
     "output_type": "execute_result"
    }
   ],
   "source": [
    "train_data3"
   ]
  },
  {
   "cell_type": "code",
   "execution_count": 37,
   "id": "43ba98c9",
   "metadata": {},
   "outputs": [
    {
     "data": {
      "text/html": [
       "<div>\n",
       "<style scoped>\n",
       "    .dataframe tbody tr th:only-of-type {\n",
       "        vertical-align: middle;\n",
       "    }\n",
       "\n",
       "    .dataframe tbody tr th {\n",
       "        vertical-align: top;\n",
       "    }\n",
       "\n",
       "    .dataframe thead th {\n",
       "        text-align: right;\n",
       "    }\n",
       "</style>\n",
       "<table border=\"1\" class=\"dataframe\">\n",
       "  <thead>\n",
       "    <tr style=\"text-align: right;\">\n",
       "      <th></th>\n",
       "      <th>Gender</th>\n",
       "      <th>Married</th>\n",
       "      <th>Dependents</th>\n",
       "      <th>Education</th>\n",
       "      <th>Self_Employed</th>\n",
       "      <th>Property_Area</th>\n",
       "      <th>Loan_Status</th>\n",
       "      <th>ApplicantIncome</th>\n",
       "      <th>CoapplicantIncome</th>\n",
       "      <th>LoanAmount</th>\n",
       "      <th>Loan_Amount_Term</th>\n",
       "      <th>Credit_History</th>\n",
       "    </tr>\n",
       "  </thead>\n",
       "  <tbody>\n",
       "    <tr>\n",
       "      <th>0</th>\n",
       "      <td>1</td>\n",
       "      <td>0</td>\n",
       "      <td>0</td>\n",
       "      <td>0</td>\n",
       "      <td>0</td>\n",
       "      <td>2</td>\n",
       "      <td>1</td>\n",
       "      <td>0.072991</td>\n",
       "      <td>-0.554487</td>\n",
       "      <td>-0.211241</td>\n",
       "      <td>0.273231</td>\n",
       "      <td>0.411733</td>\n",
       "    </tr>\n",
       "    <tr>\n",
       "      <th>1</th>\n",
       "      <td>1</td>\n",
       "      <td>1</td>\n",
       "      <td>1</td>\n",
       "      <td>0</td>\n",
       "      <td>0</td>\n",
       "      <td>0</td>\n",
       "      <td>0</td>\n",
       "      <td>-0.134412</td>\n",
       "      <td>-0.038732</td>\n",
       "      <td>-0.211241</td>\n",
       "      <td>0.273231</td>\n",
       "      <td>0.411733</td>\n",
       "    </tr>\n",
       "    <tr>\n",
       "      <th>2</th>\n",
       "      <td>1</td>\n",
       "      <td>1</td>\n",
       "      <td>0</td>\n",
       "      <td>0</td>\n",
       "      <td>1</td>\n",
       "      <td>2</td>\n",
       "      <td>1</td>\n",
       "      <td>-0.393747</td>\n",
       "      <td>-0.554487</td>\n",
       "      <td>-0.948996</td>\n",
       "      <td>0.273231</td>\n",
       "      <td>0.411733</td>\n",
       "    </tr>\n",
       "    <tr>\n",
       "      <th>3</th>\n",
       "      <td>1</td>\n",
       "      <td>1</td>\n",
       "      <td>0</td>\n",
       "      <td>1</td>\n",
       "      <td>0</td>\n",
       "      <td>2</td>\n",
       "      <td>1</td>\n",
       "      <td>-0.462062</td>\n",
       "      <td>0.251980</td>\n",
       "      <td>-0.306435</td>\n",
       "      <td>0.273231</td>\n",
       "      <td>0.411733</td>\n",
       "    </tr>\n",
       "    <tr>\n",
       "      <th>4</th>\n",
       "      <td>1</td>\n",
       "      <td>0</td>\n",
       "      <td>0</td>\n",
       "      <td>0</td>\n",
       "      <td>0</td>\n",
       "      <td>2</td>\n",
       "      <td>1</td>\n",
       "      <td>0.097728</td>\n",
       "      <td>-0.554487</td>\n",
       "      <td>-0.056551</td>\n",
       "      <td>0.273231</td>\n",
       "      <td>0.411733</td>\n",
       "    </tr>\n",
       "  </tbody>\n",
       "</table>\n",
       "</div>"
      ],
      "text/plain": [
       "   Gender  Married  Dependents  Education  Self_Employed  Property_Area  \\\n",
       "0       1        0           0          0              0              2   \n",
       "1       1        1           1          0              0              0   \n",
       "2       1        1           0          0              1              2   \n",
       "3       1        1           0          1              0              2   \n",
       "4       1        0           0          0              0              2   \n",
       "\n",
       "   Loan_Status  ApplicantIncome  CoapplicantIncome  LoanAmount  \\\n",
       "0            1         0.072991          -0.554487   -0.211241   \n",
       "1            0        -0.134412          -0.038732   -0.211241   \n",
       "2            1        -0.393747          -0.554487   -0.948996   \n",
       "3            1        -0.462062           0.251980   -0.306435   \n",
       "4            1         0.097728          -0.554487   -0.056551   \n",
       "\n",
       "   Loan_Amount_Term  Credit_History  \n",
       "0          0.273231        0.411733  \n",
       "1          0.273231        0.411733  \n",
       "2          0.273231        0.411733  \n",
       "3          0.273231        0.411733  \n",
       "4          0.273231        0.411733  "
      ]
     },
     "execution_count": 37,
     "metadata": {},
     "output_type": "execute_result"
    }
   ],
   "source": [
    "train_data3 = pd.concat([train_data2, train_data3], axis =1)\n",
    "train_data3.head()"
   ]
  },
  {
   "cell_type": "markdown",
   "id": "10c86f3a",
   "metadata": {},
   "source": [
    "## Splitting target and independent features "
   ]
  },
  {
   "cell_type": "code",
   "execution_count": 38,
   "id": "4d1f3930",
   "metadata": {},
   "outputs": [],
   "source": [
    "from sklearn.model_selection import train_test_split\n",
    "\n",
    "x = train_data3.drop('Loan_Status',axis=1)\n",
    "y = train_data3['Loan_Status']\n",
    "\n",
    "x_train, x_test, y_train, y_test = train_test_split(x,y,test_size=0.25,random_state=42)"
   ]
  },
  {
   "cell_type": "markdown",
   "id": "4284b1f7",
   "metadata": {},
   "source": [
    "## Classification Models"
   ]
  },
  {
   "cell_type": "markdown",
   "id": "b03226c6",
   "metadata": {},
   "source": [
    "###  1) Logistic Regression"
   ]
  },
  {
   "cell_type": "code",
   "execution_count": 39,
   "id": "9e5005fb",
   "metadata": {},
   "outputs": [
    {
     "name": "stdout",
     "output_type": "stream",
     "text": [
      "[[21 33]\n",
      " [ 2 98]]\n",
      "0.7727272727272727\n"
     ]
    }
   ],
   "source": [
    "from sklearn.linear_model import LogisticRegression\n",
    "from sklearn.metrics import confusion_matrix,accuracy_score\n",
    "\n",
    "\n",
    "log_reg    = LogisticRegression()\n",
    "model_log  = log_reg.fit(x_train ,y_train)\n",
    "y_pred_log = model_log.predict(x_test)\n",
    "\n",
    "\n",
    "# Confusion matrix and accuracy score\n",
    "\n",
    "print(confusion_matrix(y_test,y_pred_log))  # 54 misclassifications\n",
    "print(accuracy_score(y_test, y_pred_log))"
   ]
  },
  {
   "cell_type": "markdown",
   "id": "d0b72579",
   "metadata": {},
   "source": [
    "### 2) kNN Model"
   ]
  },
  {
   "cell_type": "code",
   "execution_count": 40,
   "id": "1f31a107",
   "metadata": {},
   "outputs": [
    {
     "name": "stdout",
     "output_type": "stream",
     "text": [
      "[0.7467532467532467, 0.7012987012987013, 0.7597402597402597, 0.7142857142857143, 0.7662337662337663, 0.7402597402597403, 0.7857142857142857, 0.7792207792207793, 0.7857142857142857, 0.7857142857142857, 0.7857142857142857, 0.7857142857142857]\n"
     ]
    },
    {
     "name": "stderr",
     "output_type": "stream",
     "text": [
      "C:\\Users\\KRIZAL\\anaconda3\\lib\\site-packages\\sklearn\\neighbors\\_classification.py:228: FutureWarning: Unlike other reduction functions (e.g. `skew`, `kurtosis`), the default behavior of `mode` typically preserves the axis it acts along. In SciPy 1.11.0, this behavior will change: the default value of `keepdims` will become False, the `axis` over which the statistic is taken will be eliminated, and the value None will no longer be accepted. Set `keepdims` to True or False to avoid this warning.\n",
      "  mode, _ = stats.mode(_y[neigh_ind, k], axis=1)\n",
      "C:\\Users\\KRIZAL\\anaconda3\\lib\\site-packages\\sklearn\\neighbors\\_classification.py:228: FutureWarning: Unlike other reduction functions (e.g. `skew`, `kurtosis`), the default behavior of `mode` typically preserves the axis it acts along. In SciPy 1.11.0, this behavior will change: the default value of `keepdims` will become False, the `axis` over which the statistic is taken will be eliminated, and the value None will no longer be accepted. Set `keepdims` to True or False to avoid this warning.\n",
      "  mode, _ = stats.mode(_y[neigh_ind, k], axis=1)\n",
      "C:\\Users\\KRIZAL\\anaconda3\\lib\\site-packages\\sklearn\\neighbors\\_classification.py:228: FutureWarning: Unlike other reduction functions (e.g. `skew`, `kurtosis`), the default behavior of `mode` typically preserves the axis it acts along. In SciPy 1.11.0, this behavior will change: the default value of `keepdims` will become False, the `axis` over which the statistic is taken will be eliminated, and the value None will no longer be accepted. Set `keepdims` to True or False to avoid this warning.\n",
      "  mode, _ = stats.mode(_y[neigh_ind, k], axis=1)\n",
      "C:\\Users\\KRIZAL\\anaconda3\\lib\\site-packages\\sklearn\\neighbors\\_classification.py:228: FutureWarning: Unlike other reduction functions (e.g. `skew`, `kurtosis`), the default behavior of `mode` typically preserves the axis it acts along. In SciPy 1.11.0, this behavior will change: the default value of `keepdims` will become False, the `axis` over which the statistic is taken will be eliminated, and the value None will no longer be accepted. Set `keepdims` to True or False to avoid this warning.\n",
      "  mode, _ = stats.mode(_y[neigh_ind, k], axis=1)\n",
      "C:\\Users\\KRIZAL\\anaconda3\\lib\\site-packages\\sklearn\\neighbors\\_classification.py:228: FutureWarning: Unlike other reduction functions (e.g. `skew`, `kurtosis`), the default behavior of `mode` typically preserves the axis it acts along. In SciPy 1.11.0, this behavior will change: the default value of `keepdims` will become False, the `axis` over which the statistic is taken will be eliminated, and the value None will no longer be accepted. Set `keepdims` to True or False to avoid this warning.\n",
      "  mode, _ = stats.mode(_y[neigh_ind, k], axis=1)\n",
      "C:\\Users\\KRIZAL\\anaconda3\\lib\\site-packages\\sklearn\\neighbors\\_classification.py:228: FutureWarning: Unlike other reduction functions (e.g. `skew`, `kurtosis`), the default behavior of `mode` typically preserves the axis it acts along. In SciPy 1.11.0, this behavior will change: the default value of `keepdims` will become False, the `axis` over which the statistic is taken will be eliminated, and the value None will no longer be accepted. Set `keepdims` to True or False to avoid this warning.\n",
      "  mode, _ = stats.mode(_y[neigh_ind, k], axis=1)\n",
      "C:\\Users\\KRIZAL\\anaconda3\\lib\\site-packages\\sklearn\\neighbors\\_classification.py:228: FutureWarning: Unlike other reduction functions (e.g. `skew`, `kurtosis`), the default behavior of `mode` typically preserves the axis it acts along. In SciPy 1.11.0, this behavior will change: the default value of `keepdims` will become False, the `axis` over which the statistic is taken will be eliminated, and the value None will no longer be accepted. Set `keepdims` to True or False to avoid this warning.\n",
      "  mode, _ = stats.mode(_y[neigh_ind, k], axis=1)\n",
      "C:\\Users\\KRIZAL\\anaconda3\\lib\\site-packages\\sklearn\\neighbors\\_classification.py:228: FutureWarning: Unlike other reduction functions (e.g. `skew`, `kurtosis`), the default behavior of `mode` typically preserves the axis it acts along. In SciPy 1.11.0, this behavior will change: the default value of `keepdims` will become False, the `axis` over which the statistic is taken will be eliminated, and the value None will no longer be accepted. Set `keepdims` to True or False to avoid this warning.\n",
      "  mode, _ = stats.mode(_y[neigh_ind, k], axis=1)\n",
      "C:\\Users\\KRIZAL\\anaconda3\\lib\\site-packages\\sklearn\\neighbors\\_classification.py:228: FutureWarning: Unlike other reduction functions (e.g. `skew`, `kurtosis`), the default behavior of `mode` typically preserves the axis it acts along. In SciPy 1.11.0, this behavior will change: the default value of `keepdims` will become False, the `axis` over which the statistic is taken will be eliminated, and the value None will no longer be accepted. Set `keepdims` to True or False to avoid this warning.\n",
      "  mode, _ = stats.mode(_y[neigh_ind, k], axis=1)\n",
      "C:\\Users\\KRIZAL\\anaconda3\\lib\\site-packages\\sklearn\\neighbors\\_classification.py:228: FutureWarning: Unlike other reduction functions (e.g. `skew`, `kurtosis`), the default behavior of `mode` typically preserves the axis it acts along. In SciPy 1.11.0, this behavior will change: the default value of `keepdims` will become False, the `axis` over which the statistic is taken will be eliminated, and the value None will no longer be accepted. Set `keepdims` to True or False to avoid this warning.\n",
      "  mode, _ = stats.mode(_y[neigh_ind, k], axis=1)\n",
      "C:\\Users\\KRIZAL\\anaconda3\\lib\\site-packages\\sklearn\\neighbors\\_classification.py:228: FutureWarning: Unlike other reduction functions (e.g. `skew`, `kurtosis`), the default behavior of `mode` typically preserves the axis it acts along. In SciPy 1.11.0, this behavior will change: the default value of `keepdims` will become False, the `axis` over which the statistic is taken will be eliminated, and the value None will no longer be accepted. Set `keepdims` to True or False to avoid this warning.\n",
      "  mode, _ = stats.mode(_y[neigh_ind, k], axis=1)\n",
      "C:\\Users\\KRIZAL\\anaconda3\\lib\\site-packages\\sklearn\\neighbors\\_classification.py:228: FutureWarning: Unlike other reduction functions (e.g. `skew`, `kurtosis`), the default behavior of `mode` typically preserves the axis it acts along. In SciPy 1.11.0, this behavior will change: the default value of `keepdims` will become False, the `axis` over which the statistic is taken will be eliminated, and the value None will no longer be accepted. Set `keepdims` to True or False to avoid this warning.\n",
      "  mode, _ = stats.mode(_y[neigh_ind, k], axis=1)\n"
     ]
    },
    {
     "data": {
      "image/png": "[encoded data removed]",
      "text/plain": [
       "<Figure size 640x480 with 1 Axes>"
      ]
     },
     "metadata": {},
     "output_type": "display_data"
    }
   ],
   "source": [
    "from sklearn.neighbors import KNeighborsClassifier\n",
    "metric_k  = []\n",
    "neighbors = np.arange(3, 15)\n",
    "\n",
    "\n",
    "for k in neighbors:\n",
    "    knn       =  KNeighborsClassifier(n_neighbors = k)\n",
    "    knn_model =  knn.fit(x_train,y_train)\n",
    "    knn_pred  =  knn_model.predict(x_test)\n",
    "    knn_acc   =  accuracy_score(y_test,knn_pred)\n",
    "    metric_k.append(knn_acc)\n",
    "    \n",
    "print(metric_k)   \n",
    "    \n",
    "    \n",
    "#plotting graph\n",
    "\n",
    "plt.plot(neighbors, metric_k, 'o-')\n",
    "plt.xlabel('k value')\n",
    "plt.ylabel('accuracy')\n",
    "plt.grid()"
   ]
  },
  {
   "cell_type": "markdown",
   "id": "15390d07",
   "metadata": {},
   "source": [
    "**On Checking highest k value = 9**"
   ]
  },
  {
   "cell_type": "code",
   "execution_count": 41,
   "id": "c3fd54be",
   "metadata": {},
   "outputs": [
    {
     "name": "stdout",
     "output_type": "stream",
     "text": [
      "[[22 32]\n",
      " [ 1 99]]\n",
      "0.7857142857142857\n"
     ]
    },
    {
     "name": "stderr",
     "output_type": "stream",
     "text": [
      "C:\\Users\\KRIZAL\\anaconda3\\lib\\site-packages\\sklearn\\neighbors\\_classification.py:228: FutureWarning: Unlike other reduction functions (e.g. `skew`, `kurtosis`), the default behavior of `mode` typically preserves the axis it acts along. In SciPy 1.11.0, this behavior will change: the default value of `keepdims` will become False, the `axis` over which the statistic is taken will be eliminated, and the value None will no longer be accepted. Set `keepdims` to True or False to avoid this warning.\n",
      "  mode, _ = stats.mode(_y[neigh_ind, k], axis=1)\n"
     ]
    }
   ],
   "source": [
    "knn_9       =  KNeighborsClassifier(n_neighbors = 9)\n",
    "knn_model_9 =  knn_9.fit(x_train,y_train)\n",
    "knn_pred_9  =  knn_model_9.predict(x_test)\n",
    "knn_pred_9\n",
    "\n",
    "\n",
    "\n",
    "\n",
    "# Confusion matrix and accuracy score\n",
    "\n",
    "print(confusion_matrix(y_test, knn_pred_9))\n",
    "print(accuracy_score(y_test, knn_pred_9))\n",
    "\n"
   ]
  },
  {
   "cell_type": "code",
   "execution_count": 42,
   "id": "70cc521f",
   "metadata": {},
   "outputs": [
    {
     "name": "stdout",
     "output_type": "stream",
     "text": [
      "[[22 32]\n",
      " [ 1 99]]\n",
      "0.7857142857142857\n"
     ]
    }
   ],
   "source": [
    "# Confusion matrix and accuracy score\n",
    "\n",
    "print(confusion_matrix(y_test, knn_pred))  # 50 misclassifications\n",
    "print(accuracy_score(y_test, knn_pred))"
   ]
  },
  {
   "cell_type": "markdown",
   "id": "8ec6b261",
   "metadata": {},
   "source": [
    "### 3) Support Vector Machine (SVM) "
   ]
  },
  {
   "cell_type": "code",
   "execution_count": 43,
   "id": "0f0cec3b",
   "metadata": {},
   "outputs": [],
   "source": [
    "from sklearn.svm import SVC"
   ]
  },
  {
   "cell_type": "markdown",
   "id": "eb8a3be7",
   "metadata": {},
   "source": [
    "**3.1  SVM = rbf**"
   ]
  },
  {
   "cell_type": "code",
   "execution_count": 44,
   "id": "fb0dd143",
   "metadata": {},
   "outputs": [
    {
     "name": "stdout",
     "output_type": "stream",
     "text": [
      "[[22 32]\n",
      " [ 1 99]]\n",
      "0.7857142857142857\n"
     ]
    }
   ],
   "source": [
    "svm_rbf       = SVC(kernel = \"rbf\")\n",
    "svm_model_rbf = svm_rbf.fit(x_train, y_train)\n",
    "y_pred_rbf    = svm_model_rbf.predict(x_test)\n",
    "\n",
    "\n",
    "\n",
    "# Confusion matrix and accuracy score\n",
    "\n",
    "print(confusion_matrix(y_test, y_pred_rbf))  # 55 misclassifications\n",
    "print(accuracy_score(y_test, y_pred_rbf))"
   ]
  },
  {
   "cell_type": "markdown",
   "id": "267824fa",
   "metadata": {},
   "source": [
    "**3.2  SVM = linear**"
   ]
  },
  {
   "cell_type": "code",
   "execution_count": 45,
   "id": "7fe3c35e",
   "metadata": {},
   "outputs": [],
   "source": [
    "#svm_linear       = SVC(kernel = \"linear\")\n",
    "#svm_model_linear = svm_linear.fit(x_train, y_train)\n",
    "#y_pred_linear    = svm_model_linear.predict(x_test)\n",
    "\n",
    "\n",
    "\n",
    "# Confusion matrix and accuracy score\n",
    "\n",
    "#print(confusion_matrix(y_test, y_pred_linear))\n",
    "#print(accuracy_score(y_test, y_pred_linear))"
   ]
  },
  {
   "cell_type": "markdown",
   "id": "bfbe367c",
   "metadata": {},
   "source": [
    "**3.3    SVM = poly**"
   ]
  },
  {
   "cell_type": "code",
   "execution_count": 46,
   "id": "7ba08164",
   "metadata": {},
   "outputs": [
    {
     "name": "stdout",
     "output_type": "stream",
     "text": [
      "[[23 31]\n",
      " [ 2 98]]\n",
      "0.7857142857142857\n"
     ]
    }
   ],
   "source": [
    "svm_poly       = SVC(kernel = \"poly\")\n",
    "svm_model_poly = svm_poly.fit(x_train, y_train)\n",
    "y_pred_poly    = svm_model_poly.predict(x_test)\n",
    "\n",
    "\n",
    "\n",
    "# Confusion matrix and accuracy score\n",
    "\n",
    "print(confusion_matrix(y_test, y_pred_poly))  # 55 misclassifications\n",
    "print(accuracy_score(y_test, y_pred_poly))"
   ]
  },
  {
   "cell_type": "markdown",
   "id": "1bd6ce7e",
   "metadata": {},
   "source": [
    "### 4) Desicion Tree "
   ]
  },
  {
   "cell_type": "code",
   "execution_count": 47,
   "id": "02ed2e86",
   "metadata": {},
   "outputs": [
    {
     "name": "stdout",
     "output_type": "stream",
     "text": [
      "[[22 32]\n",
      " [22 78]]\n",
      "0.6493506493506493\n"
     ]
    }
   ],
   "source": [
    "from sklearn.tree import DecisionTreeClassifier \n",
    "\n",
    "dt         = DecisionTreeClassifier(random_state = 42)\n",
    "dt_model   = dt.fit(x_train, y_train)\n",
    "y_pred_dt  = dt_model.predict(x_test)\n",
    "\n",
    "\n",
    "\n",
    "# Confusion matrix and accuracy score\n",
    "\n",
    "print(confusion_matrix(y_test, y_pred_dt))   # 46 misclassifications\n",
    "print(accuracy_score(y_test, y_pred_dt))"
   ]
  },
  {
   "cell_type": "markdown",
   "id": "0fe6dbe3",
   "metadata": {},
   "source": [
    "### 5) Random Forest "
   ]
  },
  {
   "cell_type": "code",
   "execution_count": 48,
   "id": "715d3399",
   "metadata": {},
   "outputs": [
    {
     "name": "stdout",
     "output_type": "stream",
     "text": [
      "[[24 30]\n",
      " [ 7 93]]\n",
      "0.7597402597402597\n"
     ]
    }
   ],
   "source": [
    "from sklearn.ensemble import RandomForestClassifier \n",
    "\n",
    "rf       = RandomForestClassifier(random_state = 42)\n",
    "rf_model = rf.fit(x_train, y_train)\n",
    "y_pred_rf  = rf_model.predict(x_test)\n",
    "\n",
    "\n",
    "\n",
    "# Confusion matrix and accuracy score\n",
    "\n",
    "print(confusion_matrix(y_test, y_pred_rf))  # 35 misclassifications\n",
    "print(accuracy_score(y_test, y_pred_rf))"
   ]
  },
  {
   "cell_type": "markdown",
   "id": "b9eb6887",
   "metadata": {},
   "source": [
    "### 6) Naive Bayes "
   ]
  },
  {
   "cell_type": "code",
   "execution_count": 49,
   "id": "343e403f",
   "metadata": {},
   "outputs": [
    {
     "name": "stdout",
     "output_type": "stream",
     "text": [
      "[[23 31]\n",
      " [ 3 97]]\n",
      "0.7792207792207793\n"
     ]
    }
   ],
   "source": [
    "from sklearn.naive_bayes import GaussianNB\n",
    "from sklearn.metrics import confusion_matrix,accuracy_score\n",
    "\n",
    "\n",
    "gnb        = GaussianNB()\n",
    "model_gnb  = gnb.fit(x_train ,y_train)\n",
    "y_pred_gnb = model_gnb.predict(x_test)\n",
    "\n",
    "\n",
    "# Confusion matrix and accuracy score\n",
    "\n",
    "print(confusion_matrix(y_test,y_pred_gnb))   # 60 misclassifications\n",
    "print(accuracy_score(y_test, y_pred_gnb))"
   ]
  },
  {
   "cell_type": "markdown",
   "id": "c22f8e7c",
   "metadata": {},
   "source": [
    "### 7)  Gradient Boosting Classifier"
   ]
  },
  {
   "cell_type": "code",
   "execution_count": 50,
   "id": "ef29e06a",
   "metadata": {},
   "outputs": [
    {
     "name": "stdout",
     "output_type": "stream",
     "text": [
      "[[20 34]\n",
      " [ 6 94]]\n",
      "0.7402597402597403\n"
     ]
    }
   ],
   "source": [
    "from sklearn.ensemble import GradientBoostingClassifier\n",
    "\n",
    "gbk        = GradientBoostingClassifier()\n",
    "model_gbk  = gbk.fit(x_train ,y_train)\n",
    "y_pred_gbk = model_gbk.predict(x_test)\n",
    "\n",
    "\n",
    "# Confusion matrix and accuracy score\n",
    "\n",
    "print(confusion_matrix(y_test,y_pred_gbk))  # 40 misclassifications\n",
    "print(accuracy_score(y_test, y_pred_gbk))\n"
   ]
  },
  {
   "cell_type": "markdown",
   "id": "d496e82d",
   "metadata": {},
   "source": [
    "**Based on train data, on comparing the accuracy of each model:**\n",
    "\n",
    "\n",
    "Logistic regression  = 77.2%\n",
    "\n",
    "\n",
    "kNN Model = 78.57%\n",
    "\n",
    "\n",
    "SVM kernel rbf     = 78.57%\n",
    "\n",
    "\n",
    "SVM kernel poly    = 78.57%\n",
    "\n",
    "\n",
    "Decision tree      = 64.93%\n",
    "\n",
    "\n",
    "Random Forest = 75.97%\n",
    "\n",
    "\n",
    "Naive Bayes = 77.92%\n",
    "\n",
    "\n",
    "Gradient Boosting Classifier = 74.02%\n",
    "\n",
    "\n",
    "\n",
    "**From the above observation, kNN, SVM kernel rbf, SVM kernel poly have the highest accuracy thus it can be considered as the best model to classify the data.**\n",
    " "
   ]
  },
  {
   "cell_type": "markdown",
   "id": "03b40909",
   "metadata": {},
   "source": [
    "# Test data"
   ]
  },
  {
   "cell_type": "code",
   "execution_count": 51,
   "id": "cd7ff136",
   "metadata": {},
   "outputs": [],
   "source": [
    "test_data = pd.read_csv(\"C:/Users/KRIZAL/Desktop/DSA/Virtual Competition 2/test_file.csv\")"
   ]
  },
  {
   "cell_type": "code",
   "execution_count": 52,
   "id": "22b53ea5",
   "metadata": {},
   "outputs": [],
   "source": [
    "td = pd.read_csv(\"C:/Users/KRIZAL/Desktop/DSA/Virtual Competition 2/test_file.csv\")"
   ]
  },
  {
   "cell_type": "code",
   "execution_count": 53,
   "id": "4a7b106c",
   "metadata": {},
   "outputs": [
    {
     "data": {
      "text/html": [
       "<div>\n",
       "<style scoped>\n",
       "    .dataframe tbody tr th:only-of-type {\n",
       "        vertical-align: middle;\n",
       "    }\n",
       "\n",
       "    .dataframe tbody tr th {\n",
       "        vertical-align: top;\n",
       "    }\n",
       "\n",
       "    .dataframe thead th {\n",
       "        text-align: right;\n",
       "    }\n",
       "</style>\n",
       "<table border=\"1\" class=\"dataframe\">\n",
       "  <thead>\n",
       "    <tr style=\"text-align: right;\">\n",
       "      <th></th>\n",
       "      <th>Loan_ID</th>\n",
       "      <th>Gender</th>\n",
       "      <th>Married</th>\n",
       "      <th>Dependents</th>\n",
       "      <th>Education</th>\n",
       "      <th>Self_Employed</th>\n",
       "      <th>ApplicantIncome</th>\n",
       "      <th>CoapplicantIncome</th>\n",
       "      <th>LoanAmount</th>\n",
       "      <th>Loan_Amount_Term</th>\n",
       "      <th>Credit_History</th>\n",
       "      <th>Property_Area</th>\n",
       "    </tr>\n",
       "  </thead>\n",
       "  <tbody>\n",
       "    <tr>\n",
       "      <th>0</th>\n",
       "      <td>LP001015</td>\n",
       "      <td>Male</td>\n",
       "      <td>Yes</td>\n",
       "      <td>0</td>\n",
       "      <td>Graduate</td>\n",
       "      <td>No</td>\n",
       "      <td>5720</td>\n",
       "      <td>0</td>\n",
       "      <td>110.0</td>\n",
       "      <td>360.0</td>\n",
       "      <td>1.0</td>\n",
       "      <td>Urban</td>\n",
       "    </tr>\n",
       "    <tr>\n",
       "      <th>1</th>\n",
       "      <td>LP001022</td>\n",
       "      <td>Male</td>\n",
       "      <td>Yes</td>\n",
       "      <td>1</td>\n",
       "      <td>Graduate</td>\n",
       "      <td>No</td>\n",
       "      <td>3076</td>\n",
       "      <td>1500</td>\n",
       "      <td>126.0</td>\n",
       "      <td>360.0</td>\n",
       "      <td>1.0</td>\n",
       "      <td>Urban</td>\n",
       "    </tr>\n",
       "    <tr>\n",
       "      <th>2</th>\n",
       "      <td>LP001031</td>\n",
       "      <td>Male</td>\n",
       "      <td>Yes</td>\n",
       "      <td>2</td>\n",
       "      <td>Graduate</td>\n",
       "      <td>No</td>\n",
       "      <td>5000</td>\n",
       "      <td>1800</td>\n",
       "      <td>208.0</td>\n",
       "      <td>360.0</td>\n",
       "      <td>1.0</td>\n",
       "      <td>Urban</td>\n",
       "    </tr>\n",
       "    <tr>\n",
       "      <th>3</th>\n",
       "      <td>LP001035</td>\n",
       "      <td>Male</td>\n",
       "      <td>Yes</td>\n",
       "      <td>2</td>\n",
       "      <td>Graduate</td>\n",
       "      <td>No</td>\n",
       "      <td>2340</td>\n",
       "      <td>2546</td>\n",
       "      <td>100.0</td>\n",
       "      <td>360.0</td>\n",
       "      <td>NaN</td>\n",
       "      <td>Urban</td>\n",
       "    </tr>\n",
       "    <tr>\n",
       "      <th>4</th>\n",
       "      <td>LP001051</td>\n",
       "      <td>Male</td>\n",
       "      <td>No</td>\n",
       "      <td>0</td>\n",
       "      <td>Not Graduate</td>\n",
       "      <td>No</td>\n",
       "      <td>3276</td>\n",
       "      <td>0</td>\n",
       "      <td>78.0</td>\n",
       "      <td>360.0</td>\n",
       "      <td>1.0</td>\n",
       "      <td>Urban</td>\n",
       "    </tr>\n",
       "  </tbody>\n",
       "</table>\n",
       "</div>"
      ],
      "text/plain": [
       "    Loan_ID Gender Married Dependents     Education Self_Employed  \\\n",
       "0  LP001015   Male     Yes          0      Graduate            No   \n",
       "1  LP001022   Male     Yes          1      Graduate            No   \n",
       "2  LP001031   Male     Yes          2      Graduate            No   \n",
       "3  LP001035   Male     Yes          2      Graduate            No   \n",
       "4  LP001051   Male      No          0  Not Graduate            No   \n",
       "\n",
       "   ApplicantIncome  CoapplicantIncome  LoanAmount  Loan_Amount_Term  \\\n",
       "0             5720                  0       110.0             360.0   \n",
       "1             3076               1500       126.0             360.0   \n",
       "2             5000               1800       208.0             360.0   \n",
       "3             2340               2546       100.0             360.0   \n",
       "4             3276                  0        78.0             360.0   \n",
       "\n",
       "   Credit_History Property_Area  \n",
       "0             1.0         Urban  \n",
       "1             1.0         Urban  \n",
       "2             1.0         Urban  \n",
       "3             NaN         Urban  \n",
       "4             1.0         Urban  "
      ]
     },
     "execution_count": 53,
     "metadata": {},
     "output_type": "execute_result"
    }
   ],
   "source": [
    "test_data.head()"
   ]
  },
  {
   "cell_type": "code",
   "execution_count": 54,
   "id": "c27ff58a",
   "metadata": {},
   "outputs": [
    {
     "data": {
      "text/plain": [
       "(367, 12)"
      ]
     },
     "execution_count": 54,
     "metadata": {},
     "output_type": "execute_result"
    }
   ],
   "source": [
    "test_data.shape"
   ]
  },
  {
   "cell_type": "code",
   "execution_count": 55,
   "id": "9ec30cf9",
   "metadata": {},
   "outputs": [
    {
     "data": {
      "text/html": [
       "<div>\n",
       "<style scoped>\n",
       "    .dataframe tbody tr th:only-of-type {\n",
       "        vertical-align: middle;\n",
       "    }\n",
       "\n",
       "    .dataframe tbody tr th {\n",
       "        vertical-align: top;\n",
       "    }\n",
       "\n",
       "    .dataframe thead th {\n",
       "        text-align: right;\n",
       "    }\n",
       "</style>\n",
       "<table border=\"1\" class=\"dataframe\">\n",
       "  <thead>\n",
       "    <tr style=\"text-align: right;\">\n",
       "      <th></th>\n",
       "      <th>ApplicantIncome</th>\n",
       "      <th>CoapplicantIncome</th>\n",
       "      <th>LoanAmount</th>\n",
       "      <th>Loan_Amount_Term</th>\n",
       "      <th>Credit_History</th>\n",
       "    </tr>\n",
       "  </thead>\n",
       "  <tbody>\n",
       "    <tr>\n",
       "      <th>count</th>\n",
       "      <td>367.000000</td>\n",
       "      <td>367.000000</td>\n",
       "      <td>362.000000</td>\n",
       "      <td>361.000000</td>\n",
       "      <td>338.000000</td>\n",
       "    </tr>\n",
       "    <tr>\n",
       "      <th>mean</th>\n",
       "      <td>4805.599455</td>\n",
       "      <td>1569.577657</td>\n",
       "      <td>136.132597</td>\n",
       "      <td>342.537396</td>\n",
       "      <td>0.825444</td>\n",
       "    </tr>\n",
       "    <tr>\n",
       "      <th>std</th>\n",
       "      <td>4910.685399</td>\n",
       "      <td>2334.232099</td>\n",
       "      <td>61.366652</td>\n",
       "      <td>65.156643</td>\n",
       "      <td>0.380150</td>\n",
       "    </tr>\n",
       "    <tr>\n",
       "      <th>min</th>\n",
       "      <td>0.000000</td>\n",
       "      <td>0.000000</td>\n",
       "      <td>28.000000</td>\n",
       "      <td>6.000000</td>\n",
       "      <td>0.000000</td>\n",
       "    </tr>\n",
       "    <tr>\n",
       "      <th>25%</th>\n",
       "      <td>2864.000000</td>\n",
       "      <td>0.000000</td>\n",
       "      <td>100.250000</td>\n",
       "      <td>360.000000</td>\n",
       "      <td>1.000000</td>\n",
       "    </tr>\n",
       "    <tr>\n",
       "      <th>50%</th>\n",
       "      <td>3786.000000</td>\n",
       "      <td>1025.000000</td>\n",
       "      <td>125.000000</td>\n",
       "      <td>360.000000</td>\n",
       "      <td>1.000000</td>\n",
       "    </tr>\n",
       "    <tr>\n",
       "      <th>75%</th>\n",
       "      <td>5060.000000</td>\n",
       "      <td>2430.500000</td>\n",
       "      <td>158.000000</td>\n",
       "      <td>360.000000</td>\n",
       "      <td>1.000000</td>\n",
       "    </tr>\n",
       "    <tr>\n",
       "      <th>max</th>\n",
       "      <td>72529.000000</td>\n",
       "      <td>24000.000000</td>\n",
       "      <td>550.000000</td>\n",
       "      <td>480.000000</td>\n",
       "      <td>1.000000</td>\n",
       "    </tr>\n",
       "  </tbody>\n",
       "</table>\n",
       "</div>"
      ],
      "text/plain": [
       "       ApplicantIncome  CoapplicantIncome  LoanAmount  Loan_Amount_Term  \\\n",
       "count       367.000000         367.000000  362.000000        361.000000   \n",
       "mean       4805.599455        1569.577657  136.132597        342.537396   \n",
       "std        4910.685399        2334.232099   61.366652         65.156643   \n",
       "min           0.000000           0.000000   28.000000          6.000000   \n",
       "25%        2864.000000           0.000000  100.250000        360.000000   \n",
       "50%        3786.000000        1025.000000  125.000000        360.000000   \n",
       "75%        5060.000000        2430.500000  158.000000        360.000000   \n",
       "max       72529.000000       24000.000000  550.000000        480.000000   \n",
       "\n",
       "       Credit_History  \n",
       "count      338.000000  \n",
       "mean         0.825444  \n",
       "std          0.380150  \n",
       "min          0.000000  \n",
       "25%          1.000000  \n",
       "50%          1.000000  \n",
       "75%          1.000000  \n",
       "max          1.000000  "
      ]
     },
     "execution_count": 55,
     "metadata": {},
     "output_type": "execute_result"
    }
   ],
   "source": [
    "test_data.describe()"
   ]
  },
  {
   "cell_type": "code",
   "execution_count": 56,
   "id": "dbc72ac3",
   "metadata": {},
   "outputs": [
    {
     "data": {
      "text/plain": [
       "Loan_ID               object\n",
       "Gender                object\n",
       "Married               object\n",
       "Dependents            object\n",
       "Education             object\n",
       "Self_Employed         object\n",
       "ApplicantIncome        int64\n",
       "CoapplicantIncome      int64\n",
       "LoanAmount           float64\n",
       "Loan_Amount_Term     float64\n",
       "Credit_History       float64\n",
       "Property_Area         object\n",
       "dtype: object"
      ]
     },
     "execution_count": 56,
     "metadata": {},
     "output_type": "execute_result"
    }
   ],
   "source": [
    "test_data.dtypes"
   ]
  },
  {
   "cell_type": "markdown",
   "id": "9af0beb7",
   "metadata": {},
   "source": [
    "# Exploratory Data Analysis"
   ]
  },
  {
   "cell_type": "code",
   "execution_count": 57,
   "id": "8c01874b",
   "metadata": {},
   "outputs": [
    {
     "data": {
      "text/plain": [
       "['ApplicantIncome',\n",
       " 'CoapplicantIncome',\n",
       " 'LoanAmount',\n",
       " 'Loan_Amount_Term',\n",
       " 'Credit_History']"
      ]
     },
     "execution_count": 57,
     "metadata": {},
     "output_type": "execute_result"
    }
   ],
   "source": [
    "# Numerical features\n",
    "\n",
    "\n",
    "num_feature_test = [features for features in test_data.columns if test_data[features].dtypes!=\"O\" and features !='Loan_Status']\n",
    "num_feature_test"
   ]
  },
  {
   "cell_type": "code",
   "execution_count": 58,
   "id": "79d4eb6f",
   "metadata": {},
   "outputs": [
    {
     "name": "stdout",
     "output_type": "stream",
     "text": [
      "LoanAmount:0.0136 % missing values\n",
      "Loan_Amount_Term:0.0163 % missing values\n",
      "Credit_History:0.079 % missing values\n"
     ]
    }
   ],
   "source": [
    "# Checking for numerical values with missing values\n",
    "\n",
    "numerical_nan_test = [feature for feature in test_data.columns if test_data[feature].isnull().sum()>1 and test_data[feature].dtypes!='O']\n",
    "\n",
    "for features in numerical_nan_test:\n",
    "    print(\"{}:{} % missing values\".format(features,np.round(test_data[features].isnull().mean(),4)))"
   ]
  },
  {
   "cell_type": "code",
   "execution_count": 59,
   "id": "bb461c15",
   "metadata": {},
   "outputs": [
    {
     "data": {
      "text/plain": [
       "['Loan_ID',\n",
       " 'Gender',\n",
       " 'Married',\n",
       " 'Dependents',\n",
       " 'Education',\n",
       " 'Self_Employed',\n",
       " 'Property_Area']"
      ]
     },
     "execution_count": 59,
     "metadata": {},
     "output_type": "execute_result"
    }
   ],
   "source": [
    "# Categorical Columns\n",
    "\n",
    "cat_feature_test = [features for features in test_data.columns if test_data[features].dtypes==\"O\" and features !='Loan_Status']\n",
    "cat_feature_test"
   ]
  },
  {
   "cell_type": "code",
   "execution_count": 60,
   "id": "743674f7",
   "metadata": {},
   "outputs": [
    {
     "name": "stdout",
     "output_type": "stream",
     "text": [
      "Gender:0.03 % missing values\n",
      "Dependents:0.0272 % missing values\n",
      "Self_Employed:0.0627 % missing values\n"
     ]
    }
   ],
   "source": [
    "# Checking with categorical values first\n",
    "\n",
    "categorical_nan_test = [feature for feature in test_data.columns if test_data[feature].isnull().sum()>1 and test_data[feature].dtypes=='O']\n",
    "\n",
    "for features in categorical_nan_test:\n",
    "    print(\"{}:{} % missing values\".format(features,np.round(test_data[features].isnull().mean(),4)))"
   ]
  },
  {
   "cell_type": "markdown",
   "id": "9561e3b5",
   "metadata": {},
   "source": [
    "## Preprocessing "
   ]
  },
  {
   "cell_type": "code",
   "execution_count": 61,
   "id": "8869346e",
   "metadata": {},
   "outputs": [
    {
     "data": {
      "text/plain": [
       "Loan_ID              367\n",
       "Gender                 2\n",
       "Married                2\n",
       "Dependents             4\n",
       "Education              2\n",
       "Self_Employed          2\n",
       "ApplicantIncome      314\n",
       "CoapplicantIncome    194\n",
       "LoanAmount           144\n",
       "Loan_Amount_Term      12\n",
       "Credit_History         2\n",
       "Property_Area          3\n",
       "dtype: int64"
      ]
     },
     "execution_count": 61,
     "metadata": {},
     "output_type": "execute_result"
    }
   ],
   "source": [
    "test_data.nunique()"
   ]
  },
  {
   "cell_type": "code",
   "execution_count": 62,
   "id": "003634d1",
   "metadata": {},
   "outputs": [
    {
     "data": {
      "text/plain": [
       "Loan_ID               0\n",
       "Gender               11\n",
       "Married               0\n",
       "Dependents           10\n",
       "Education             0\n",
       "Self_Employed        23\n",
       "ApplicantIncome       0\n",
       "CoapplicantIncome     0\n",
       "LoanAmount            5\n",
       "Loan_Amount_Term      6\n",
       "Credit_History       29\n",
       "Property_Area         0\n",
       "dtype: int64"
      ]
     },
     "execution_count": 62,
     "metadata": {},
     "output_type": "execute_result"
    }
   ],
   "source": [
    "#Finding null values\n",
    "\n",
    "test_data.isna().sum()"
   ]
  },
  {
   "cell_type": "code",
   "execution_count": 63,
   "id": "3b83778c",
   "metadata": {},
   "outputs": [
    {
     "data": {
      "text/plain": [
       "Index(['Loan_ID', 'Gender', 'Married', 'Dependents', 'Education',\n",
       "       'Self_Employed', 'ApplicantIncome', 'CoapplicantIncome', 'LoanAmount',\n",
       "       'Loan_Amount_Term', 'Credit_History', 'Property_Area'],\n",
       "      dtype='object')"
      ]
     },
     "execution_count": 63,
     "metadata": {},
     "output_type": "execute_result"
    }
   ],
   "source": [
    "test_data.columns"
   ]
  },
  {
   "cell_type": "code",
   "execution_count": 64,
   "id": "4c137d8f",
   "metadata": {},
   "outputs": [
    {
     "data": {
      "text/plain": [
       "array([ 5720,  3076,  5000,  2340,  3276,  2165,  2226,  3881, 13633,\n",
       "        2400,  3091,  2185,  4166, 12173,  4666,  5667,  4583,  3786,\n",
       "        9226,  1300,  1888,  2083,  3909,  3765,  5400,     0,  4363,\n",
       "        7500,  3772,  2942,  2478,  6250,  3268,  2783,  2740,  3150,\n",
       "        7350,  2267,  5833,  3643,  5629,  3644,  1750,  6500,  3666,\n",
       "        4260,  4163,  2356,  6792,  8000,  2419,  3500,  4116,  5293,\n",
       "        2750,  4402,  3613,  2779,  4720,  2415,  7016,  4968,  2101,\n",
       "        4490,  2917,  4700,  3445,  7666,  2458,  3250,  4463,  4083,\n",
       "        3900,  4750,  3583,  3189,  6356,  3413,  7950,  3829, 72529,\n",
       "        4136,  8449,  4456,  4635,  3571,  3066,  3235,  5058,  3188,\n",
       "       13518,  4364,  4766,  4609,  6260,  3333,  9719,  6835,  4452,\n",
       "        2262,  3901,  2687,  2243,  3417,  1596,  4513,  4500,  4523,\n",
       "        4742,  4082,  2922,  4167,  4243,  1516,  1762,   724,  3125,\n",
       "        2333,  3350,  2500, 12500,  4667,  3073,  3321,  3391,  3343,\n",
       "        3620,  4000,  4258,  2014,  4727,  3089,  6794, 32000, 10890,\n",
       "       12941,  8703,  5900,  3071,  2463,  4855,  1599,  4246,  4333,\n",
       "        5823,  7895,  4150,  2964,  5583,  2708,  3180,  2268,  1141,\n",
       "        3042,  3564,  3958,  4483,  5225,  3017,  2431,  4912,  2918,\n",
       "        5128, 15312,  4334,  4358, 10166,  4521,  9167, 13083,  7874,\n",
       "        3785,  2654, 10000,  4796,  2000,  2540,  1900,  8706,  2855,\n",
       "        3016,  3159,  1937,  2613,  4960,  3074,  4213,  2038,  2362,\n",
       "        5333,  5384,  5708,  3754,  2914,  2747,  7830,  3507,  3747,\n",
       "        2166,  2896,  5062,  5184,  2545,  2553,  3436,  2412,  5180,\n",
       "       14911,  2860,  1173,  7600,  2157,  2231,  2274,  6166,  2513,\n",
       "        3844,  3887,  3510,  2539,  2107,  3186,  3943,  2925,  3242,\n",
       "        3863,  4028,  4010,  3719,  2858,  3833,  3007,  1850,  2792,\n",
       "        2982, 18840,  2995,  3579,  3835,  3854,  3508,  1635, 24797,\n",
       "        2773,  5769,  3634, 29167,  5530,  9000,  8750,  1972,  4983,\n",
       "        8333,  3667,  3166,  3271,  2241,  1792,  2666,  6478,  3808,\n",
       "        3729,  4120,  6300, 14987,   570,  2600,  2733,  3859,  6825,\n",
       "        3708,  5314,  2366,  2066,  3767,  7859,  4283,  1700,  4768,\n",
       "        3083,  2667,  1647,  3400, 16000,  2875,  5041,  6958,  5509,\n",
       "        9699,  3621,  4709,  3015,  2292,  2360,  2623,  3972,  3522,\n",
       "        6858,  8334,  2868,  3418,  8667,  2283,  5817,  5119,  5316,\n",
       "        7603,  3791,  3132,  8550,  2269,  4009,  4158,  9200],\n",
       "      dtype=int64)"
      ]
     },
     "execution_count": 64,
     "metadata": {},
     "output_type": "execute_result"
    }
   ],
   "source": [
    "test_data[\"ApplicantIncome\"].unique()"
   ]
  },
  {
   "cell_type": "code",
   "execution_count": 65,
   "id": "6d71e7d1",
   "metadata": {},
   "outputs": [
    {
     "data": {
      "text/plain": [
       "Loan_ID              0\n",
       "Gender               0\n",
       "Married              0\n",
       "Dependents           0\n",
       "Education            0\n",
       "Self_Employed        0\n",
       "ApplicantIncome      0\n",
       "CoapplicantIncome    0\n",
       "LoanAmount           0\n",
       "Loan_Amount_Term     0\n",
       "Credit_History       0\n",
       "Property_Area        0\n",
       "dtype: int64"
      ]
     },
     "execution_count": 65,
     "metadata": {},
     "output_type": "execute_result"
    }
   ],
   "source": [
    "# Filling the missing columns with median \n",
    "\n",
    "for i in ['LoanAmount']:\n",
    "    test_data[i] = test_data[i].fillna(test_data[i].median())\n",
    "    \n",
    "    \n",
    "    \n",
    "    \n",
    "# Filling the missing columns with mode\n",
    "\n",
    "for i in ['Dependents', 'Self_Employed', 'Credit_History', 'Married', 'Gender', 'Loan_Amount_Term']:\n",
    "    test_data[i] = test_data[i].fillna(test_data[i].mode()[0])\n",
    "    \n",
    "    \n",
    "    \n",
    "    \n",
    "    \n",
    "#Again Checking for Null values\n",
    "\n",
    "test_data.isna().sum()"
   ]
  },
  {
   "cell_type": "markdown",
   "id": "162ac8b5",
   "metadata": {},
   "source": [
    "**Checking Skewness**"
   ]
  },
  {
   "cell_type": "code",
   "execution_count": 66,
   "id": "253c3c21",
   "metadata": {},
   "outputs": [
    {
     "name": "stderr",
     "output_type": "stream",
     "text": [
      "C:\\Users\\KRIZAL\\AppData\\Local\\Temp\\ipykernel_27516\\1308149931.py:1: FutureWarning: Dropping of nuisance columns in DataFrame reductions (with 'numeric_only=None') is deprecated; in a future version this will raise TypeError.  Select only valid columns before calling the reduction.\n",
      "  test_data.mean()\n"
     ]
    },
    {
     "data": {
      "text/plain": [
       "ApplicantIncome      4805.599455\n",
       "CoapplicantIncome    1569.577657\n",
       "LoanAmount            135.980926\n",
       "Loan_Amount_Term      342.822888\n",
       "Credit_History          0.839237\n",
       "dtype: float64"
      ]
     },
     "execution_count": 66,
     "metadata": {},
     "output_type": "execute_result"
    }
   ],
   "source": [
    "test_data.mean()"
   ]
  },
  {
   "cell_type": "code",
   "execution_count": 67,
   "id": "5a114cbb",
   "metadata": {},
   "outputs": [
    {
     "name": "stdout",
     "output_type": "stream",
     "text": [
      "8.441374954190996\n",
      "4.257356934477602\n",
      "2.244600521260248\n",
      "-2.709536758573826\n",
      "-1.8547214446428353\n"
     ]
    }
   ],
   "source": [
    "for i in num_feature_test:\n",
    "    skew_data = test_data[i].skew()\n",
    "    print(skew_data)"
   ]
  },
  {
   "cell_type": "markdown",
   "id": "820cb5fd",
   "metadata": {},
   "source": [
    "## Outlier Detection"
   ]
  },
  {
   "cell_type": "code",
   "execution_count": 68,
   "id": "97067f5a",
   "metadata": {
    "scrolled": false
   },
   "outputs": [
    {
     "data": {
      "image/png": "[encoded data removed]",
      "text/plain": [
       "<Figure size 640x480 with 1 Axes>"
      ]
     },
     "metadata": {},
     "output_type": "display_data"
    },
    {
     "data": {
      "image/png": "[encoded data removed]",
      "text/plain": [
       "<Figure size 640x480 with 1 Axes>"
      ]
     },
     "metadata": {},
     "output_type": "display_data"
    },
    {
     "data": {
      "image/png": "[encoded data removed]",
      "text/plain": [
       "<Figure size 640x480 with 1 Axes>"
      ]
     },
     "metadata": {},
     "output_type": "display_data"
    },
    {
     "data": {
      "image/png": "[encoded data removed]",
      "text/plain": [
       "<Figure size 640x480 with 1 Axes>"
      ]
     },
     "metadata": {},
     "output_type": "display_data"
    },
    {
     "data": {
      "image/png": "[encoded data removed]",
      "text/plain": [
       "<Figure size 640x480 with 1 Axes>"
      ]
     },
     "metadata": {},
     "output_type": "display_data"
    }
   ],
   "source": [
    "for i in num_feature_test:\n",
    "    plt.boxplot(test_data[i])\n",
    "    plt.title(i)\n",
    "    plt.show()"
   ]
  },
  {
   "cell_type": "markdown",
   "id": "ab8ca16f",
   "metadata": {},
   "source": [
    "### Finding rows with outliers "
   ]
  },
  {
   "cell_type": "code",
   "execution_count": 69,
   "id": "76a7976d",
   "metadata": {},
   "outputs": [
    {
     "name": "stdout",
     "output_type": "stream",
     "text": [
      "Interquartile range: ApplicantIncome \n",
      "\n",
      "Q1: 2864.0\n",
      "Q2: 3786.0\n",
      "Q3: 5060.0\n",
      "\n",
      "IQR:2196.0\n",
      "\n",
      "Lower limit : -430.0\n",
      "Upper limit : 8354.0\n",
      "\n",
      "Outlier: [13633, 12173, 9226, 72529, 8449, 13518, 9719, 12500, 32000, 10890, 12941, 8703, 15312, 10166, 9167, 13083, 10000, 8706, 14911, 10000, 18840, 24797, 29167, 9000, 10000, 8750, 14987, 16000, 9699, 8667, 8550, 9200]\n",
      "\n",
      "Index : Int64Index([  8,  13,  18,  81,  83,  91,  98, 124, 143, 144, 145, 147, 179,\n",
      "            184, 187, 188, 194, 200, 230, 247, 263, 272, 279, 283, 284, 285,\n",
      "            302, 323, 331, 350, 360, 366],\n",
      "           dtype='int64')\n",
      "\n",
      "Interquartile range: CoapplicantIncome \n",
      "\n",
      "Q1: 0.0\n",
      "Q2: 1025.0\n",
      "Q3: 2430.5\n",
      "\n",
      "IQR:2430.5\n",
      "\n",
      "Lower limit : -3645.75\n",
      "Upper limit : 6076.25\n",
      "\n",
      "Outlier: [7916, 24000, 8000, 6414, 14507, 13983, 11666, 15000]\n",
      "\n",
      "Index : Int64Index([18, 25, 85, 123, 230, 237, 284, 351], dtype='int64')\n",
      "\n",
      "Interquartile range: LoanAmount \n",
      "\n",
      "Q1: 101.0\n",
      "Q2: 125.0\n",
      "Q3: 157.5\n",
      "\n",
      "IQR:56.5\n",
      "\n",
      "Lower limit : 16.25\n",
      "Upper limit : 242.25\n",
      "\n",
      "Outlier: [280.0, 300.0, 290.0, 275.0, 360.0, 257.0, 390.0, 256.0, 300.0, 550.0, 260.0, 336.0, 412.0, 460.0, 297.0, 300.0, 260.0, 254.0]\n",
      "\n",
      "Index : Int64Index([8, 18, 24, 27, 81, 83, 91, 96, 124, 143, 144, 189, 194, 284, 285,\n",
      "            331, 345, 350],\n",
      "           dtype='int64')\n",
      "\n",
      "Interquartile range: Loan_Amount_Term \n",
      "\n",
      "Q1: 360.0\n",
      "Q2: 360.0\n",
      "Q3: 360.0\n",
      "\n",
      "IQR:0.0\n",
      "\n",
      "Lower limit : 360.0\n",
      "Upper limit : 360.0\n",
      "\n",
      "Outlier: [240.0, 180.0, 180.0, 180.0, 180.0, 180.0, 180.0, 180.0, 180.0, 60.0, 480.0, 180.0, 180.0, 480.0, 180.0, 180.0, 84.0, 240.0, 12.0, 300.0, 300.0, 350.0, 240.0, 180.0, 84.0, 480.0, 300.0, 36.0, 480.0, 300.0, 180.0, 480.0, 180.0, 180.0, 480.0, 300.0, 480.0, 180.0, 480.0, 84.0, 300.0, 180.0, 120.0, 6.0, 240.0, 180.0, 180.0, 300.0, 180.0, 180.0]\n",
      "\n",
      "Index : Int64Index([82, 101, 200, 222, 239, 250, 266, 295], dtype='int64')\n",
      "\n",
      "Interquartile range: Credit_History \n",
      "\n",
      "Q1: 1.0\n",
      "Q2: 1.0\n",
      "Q3: 1.0\n",
      "\n",
      "IQR:0.0\n",
      "\n",
      "Lower limit : 1.0\n",
      "Upper limit : 1.0\n",
      "\n",
      "Outlier: [0.0, 0.0, 0.0, 0.0, 0.0, 0.0, 0.0, 0.0, 0.0, 0.0, 0.0, 0.0, 0.0, 0.0, 0.0, 0.0, 0.0, 0.0, 0.0, 0.0, 0.0, 0.0, 0.0, 0.0, 0.0, 0.0, 0.0, 0.0, 0.0, 0.0, 0.0, 0.0, 0.0, 0.0, 0.0, 0.0, 0.0, 0.0, 0.0, 0.0, 0.0, 0.0, 0.0, 0.0, 0.0, 0.0, 0.0, 0.0, 0.0, 0.0, 0.0, 0.0, 0.0, 0.0, 0.0, 0.0, 0.0, 0.0, 0.0]\n",
      "\n",
      "Index : Int64Index([], dtype='int64')\n",
      "\n"
     ]
    }
   ],
   "source": [
    "for i in num_feature_test:\n",
    "    \n",
    "    # Inter Quartile Range\n",
    "    \n",
    "    Q1 = np.percentile(test_data[i], 25,interpolation=\"midpoint\")\n",
    "    Q2 = np.percentile(test_data[i], 50,interpolation=\"midpoint\")\n",
    "    Q3 = np.percentile(test_data[i], 75,interpolation=\"midpoint\")\n",
    "    print(\"Interquartile range: {} \\n\".format(i))\n",
    "    print(\"Q1: {}\".format(Q1))\n",
    "    print(\"Q2: {}\".format(Q2))\n",
    "    print(\"Q3: {}\\n\".format(Q3))\n",
    "    \n",
    "    IQR = Q3-Q1\n",
    "    print(\"IQR:{}\\n\".format(IQR))\n",
    "    \n",
    "    # Limit identification\n",
    "    \n",
    "    low_limit = Q1-1.5*IQR\n",
    "    up_limit  = Q3+1.5*IQR\n",
    "    print(\"Lower limit : {}\".format(low_limit))\n",
    "    print(\"Upper limit : {}\\n\".format(up_limit))\n",
    "    \n",
    "    \n",
    "    # Finding outlier\n",
    "    \n",
    "    outlier= []\n",
    "    for x in test_data[i]:\n",
    "        if ((x>up_limit) or (x<low_limit)):\n",
    "            outlier.append(x)\n",
    "    print(\"Outlier: {}\\n\".format(outlier))\n",
    "    \n",
    "    \n",
    "    # Finding index colum with outlier\n",
    "\n",
    "    ind_out  = test_data[i]>up_limit\n",
    "    ind_data = test_data.loc[ind_out].index\n",
    "    print(\"Index : {}\\n\".format(ind_data))\n"
   ]
  },
  {
   "cell_type": "markdown",
   "id": "bba4f5bc",
   "metadata": {},
   "source": [
    "## Correlation Matrix "
   ]
  },
  {
   "cell_type": "code",
   "execution_count": 70,
   "id": "54bede8a",
   "metadata": {},
   "outputs": [
    {
     "data": {
      "text/html": [
       "<div>\n",
       "<style scoped>\n",
       "    .dataframe tbody tr th:only-of-type {\n",
       "        vertical-align: middle;\n",
       "    }\n",
       "\n",
       "    .dataframe tbody tr th {\n",
       "        vertical-align: top;\n",
       "    }\n",
       "\n",
       "    .dataframe thead th {\n",
       "        text-align: right;\n",
       "    }\n",
       "</style>\n",
       "<table border=\"1\" class=\"dataframe\">\n",
       "  <thead>\n",
       "    <tr style=\"text-align: right;\">\n",
       "      <th></th>\n",
       "      <th>ApplicantIncome</th>\n",
       "      <th>CoapplicantIncome</th>\n",
       "      <th>LoanAmount</th>\n",
       "      <th>Loan_Amount_Term</th>\n",
       "      <th>Credit_History</th>\n",
       "    </tr>\n",
       "  </thead>\n",
       "  <tbody>\n",
       "    <tr>\n",
       "      <th>ApplicantIncome</th>\n",
       "      <td>1.000000</td>\n",
       "      <td>-0.110335</td>\n",
       "      <td>0.488737</td>\n",
       "      <td>0.023319</td>\n",
       "      <td>0.094944</td>\n",
       "    </tr>\n",
       "    <tr>\n",
       "      <th>CoapplicantIncome</th>\n",
       "      <td>-0.110335</td>\n",
       "      <td>1.000000</td>\n",
       "      <td>0.150034</td>\n",
       "      <td>-0.008633</td>\n",
       "      <td>-0.058004</td>\n",
       "    </tr>\n",
       "    <tr>\n",
       "      <th>LoanAmount</th>\n",
       "      <td>0.488737</td>\n",
       "      <td>0.150034</td>\n",
       "      <td>1.000000</td>\n",
       "      <td>0.091867</td>\n",
       "      <td>-0.012932</td>\n",
       "    </tr>\n",
       "    <tr>\n",
       "      <th>Loan_Amount_Term</th>\n",
       "      <td>0.023319</td>\n",
       "      <td>-0.008633</td>\n",
       "      <td>0.091867</td>\n",
       "      <td>1.000000</td>\n",
       "      <td>-0.048189</td>\n",
       "    </tr>\n",
       "    <tr>\n",
       "      <th>Credit_History</th>\n",
       "      <td>0.094944</td>\n",
       "      <td>-0.058004</td>\n",
       "      <td>-0.012932</td>\n",
       "      <td>-0.048189</td>\n",
       "      <td>1.000000</td>\n",
       "    </tr>\n",
       "  </tbody>\n",
       "</table>\n",
       "</div>"
      ],
      "text/plain": [
       "                   ApplicantIncome  CoapplicantIncome  LoanAmount  \\\n",
       "ApplicantIncome           1.000000          -0.110335    0.488737   \n",
       "CoapplicantIncome        -0.110335           1.000000    0.150034   \n",
       "LoanAmount                0.488737           0.150034    1.000000   \n",
       "Loan_Amount_Term          0.023319          -0.008633    0.091867   \n",
       "Credit_History            0.094944          -0.058004   -0.012932   \n",
       "\n",
       "                   Loan_Amount_Term  Credit_History  \n",
       "ApplicantIncome            0.023319        0.094944  \n",
       "CoapplicantIncome         -0.008633       -0.058004  \n",
       "LoanAmount                 0.091867       -0.012932  \n",
       "Loan_Amount_Term           1.000000       -0.048189  \n",
       "Credit_History            -0.048189        1.000000  "
      ]
     },
     "execution_count": 70,
     "metadata": {},
     "output_type": "execute_result"
    },
    {
     "data": {
      "image/png": "[encoded data removed]",
      "text/plain": [
       "<Figure size 1500x800 with 2 Axes>"
      ]
     },
     "metadata": {},
     "output_type": "display_data"
    }
   ],
   "source": [
    "corrmatrix = test_data.corr()\n",
    "plt.subplots(figsize =(15,8))\n",
    "plt.title(\"Correlation matrix for numerical features  \\n\", size = 20)\n",
    "sns.heatmap(corrmatrix, annot=True, cmap=\"YlGnBu\")\n",
    "corrmatrix"
   ]
  },
  {
   "cell_type": "markdown",
   "id": "0da6f5f9",
   "metadata": {},
   "source": [
    "## Label Encoding on Test Data"
   ]
  },
  {
   "cell_type": "code",
   "execution_count": 71,
   "id": "787b6ff8",
   "metadata": {},
   "outputs": [
    {
     "data": {
      "text/plain": [
       "Index(['Loan_ID', 'Gender', 'Married', 'Dependents', 'Education',\n",
       "       'Self_Employed', 'ApplicantIncome', 'CoapplicantIncome', 'LoanAmount',\n",
       "       'Loan_Amount_Term', 'Credit_History', 'Property_Area'],\n",
       "      dtype='object')"
      ]
     },
     "execution_count": 71,
     "metadata": {},
     "output_type": "execute_result"
    }
   ],
   "source": [
    "test_data.columns"
   ]
  },
  {
   "cell_type": "code",
   "execution_count": 72,
   "id": "2492c0c0",
   "metadata": {},
   "outputs": [],
   "source": [
    "from sklearn import preprocessing\n",
    "\n",
    "from sklearn.preprocessing import LabelEncoder\n",
    "\n",
    "le = LabelEncoder()\n",
    "for i in ['Gender', 'Married', 'Dependents', 'Education', 'Self_Employed', 'Property_Area']:\n",
    "    test_data[i] = le.fit_transform(test_data[i])"
   ]
  },
  {
   "cell_type": "code",
   "execution_count": 73,
   "id": "d4ffd0d7",
   "metadata": {},
   "outputs": [
    {
     "data": {
      "text/html": [
       "<div>\n",
       "<style scoped>\n",
       "    .dataframe tbody tr th:only-of-type {\n",
       "        vertical-align: middle;\n",
       "    }\n",
       "\n",
       "    .dataframe tbody tr th {\n",
       "        vertical-align: top;\n",
       "    }\n",
       "\n",
       "    .dataframe thead th {\n",
       "        text-align: right;\n",
       "    }\n",
       "</style>\n",
       "<table border=\"1\" class=\"dataframe\">\n",
       "  <thead>\n",
       "    <tr style=\"text-align: right;\">\n",
       "      <th></th>\n",
       "      <th>Loan_ID</th>\n",
       "      <th>Gender</th>\n",
       "      <th>Married</th>\n",
       "      <th>Dependents</th>\n",
       "      <th>Education</th>\n",
       "      <th>Self_Employed</th>\n",
       "      <th>ApplicantIncome</th>\n",
       "      <th>CoapplicantIncome</th>\n",
       "      <th>LoanAmount</th>\n",
       "      <th>Loan_Amount_Term</th>\n",
       "      <th>Credit_History</th>\n",
       "      <th>Property_Area</th>\n",
       "    </tr>\n",
       "  </thead>\n",
       "  <tbody>\n",
       "    <tr>\n",
       "      <th>0</th>\n",
       "      <td>LP001015</td>\n",
       "      <td>1</td>\n",
       "      <td>1</td>\n",
       "      <td>0</td>\n",
       "      <td>0</td>\n",
       "      <td>0</td>\n",
       "      <td>5720</td>\n",
       "      <td>0</td>\n",
       "      <td>110.0</td>\n",
       "      <td>360.0</td>\n",
       "      <td>1.0</td>\n",
       "      <td>2</td>\n",
       "    </tr>\n",
       "    <tr>\n",
       "      <th>1</th>\n",
       "      <td>LP001022</td>\n",
       "      <td>1</td>\n",
       "      <td>1</td>\n",
       "      <td>1</td>\n",
       "      <td>0</td>\n",
       "      <td>0</td>\n",
       "      <td>3076</td>\n",
       "      <td>1500</td>\n",
       "      <td>126.0</td>\n",
       "      <td>360.0</td>\n",
       "      <td>1.0</td>\n",
       "      <td>2</td>\n",
       "    </tr>\n",
       "    <tr>\n",
       "      <th>2</th>\n",
       "      <td>LP001031</td>\n",
       "      <td>1</td>\n",
       "      <td>1</td>\n",
       "      <td>2</td>\n",
       "      <td>0</td>\n",
       "      <td>0</td>\n",
       "      <td>5000</td>\n",
       "      <td>1800</td>\n",
       "      <td>208.0</td>\n",
       "      <td>360.0</td>\n",
       "      <td>1.0</td>\n",
       "      <td>2</td>\n",
       "    </tr>\n",
       "    <tr>\n",
       "      <th>3</th>\n",
       "      <td>LP001035</td>\n",
       "      <td>1</td>\n",
       "      <td>1</td>\n",
       "      <td>2</td>\n",
       "      <td>0</td>\n",
       "      <td>0</td>\n",
       "      <td>2340</td>\n",
       "      <td>2546</td>\n",
       "      <td>100.0</td>\n",
       "      <td>360.0</td>\n",
       "      <td>1.0</td>\n",
       "      <td>2</td>\n",
       "    </tr>\n",
       "    <tr>\n",
       "      <th>4</th>\n",
       "      <td>LP001051</td>\n",
       "      <td>1</td>\n",
       "      <td>0</td>\n",
       "      <td>0</td>\n",
       "      <td>1</td>\n",
       "      <td>0</td>\n",
       "      <td>3276</td>\n",
       "      <td>0</td>\n",
       "      <td>78.0</td>\n",
       "      <td>360.0</td>\n",
       "      <td>1.0</td>\n",
       "      <td>2</td>\n",
       "    </tr>\n",
       "  </tbody>\n",
       "</table>\n",
       "</div>"
      ],
      "text/plain": [
       "    Loan_ID  Gender  Married  Dependents  Education  Self_Employed  \\\n",
       "0  LP001015       1        1           0          0              0   \n",
       "1  LP001022       1        1           1          0              0   \n",
       "2  LP001031       1        1           2          0              0   \n",
       "3  LP001035       1        1           2          0              0   \n",
       "4  LP001051       1        0           0          1              0   \n",
       "\n",
       "   ApplicantIncome  CoapplicantIncome  LoanAmount  Loan_Amount_Term  \\\n",
       "0             5720                  0       110.0             360.0   \n",
       "1             3076               1500       126.0             360.0   \n",
       "2             5000               1800       208.0             360.0   \n",
       "3             2340               2546       100.0             360.0   \n",
       "4             3276                  0        78.0             360.0   \n",
       "\n",
       "   Credit_History  Property_Area  \n",
       "0             1.0              2  \n",
       "1             1.0              2  \n",
       "2             1.0              2  \n",
       "3             1.0              2  \n",
       "4             1.0              2  "
      ]
     },
     "execution_count": 73,
     "metadata": {},
     "output_type": "execute_result"
    }
   ],
   "source": [
    "test_data.head(5)"
   ]
  },
  {
   "cell_type": "markdown",
   "id": "6e4dac6b",
   "metadata": {},
   "source": [
    "## Standard Scaling on Test data"
   ]
  },
  {
   "cell_type": "code",
   "execution_count": 74,
   "id": "29a8d139",
   "metadata": {},
   "outputs": [],
   "source": [
    "test_data = test_data.drop(\"Loan_ID\", axis = 1)"
   ]
  },
  {
   "cell_type": "code",
   "execution_count": 75,
   "id": "ef26341a",
   "metadata": {},
   "outputs": [
    {
     "data": {
      "text/plain": [
       "Index(['ApplicantIncome', 'CoapplicantIncome', 'LoanAmount',\n",
       "       'Loan_Amount_Term', 'Credit_History'],\n",
       "      dtype='object')"
      ]
     },
     "execution_count": 75,
     "metadata": {},
     "output_type": "execute_result"
    }
   ],
   "source": [
    "# Dropping encoded columns\n",
    "\n",
    "test_data1 = test_data.drop(['Gender','Married','Dependents','Education','Self_Employed','Property_Area'],axis=1)\n",
    "test_data1.columns"
   ]
  },
  {
   "cell_type": "code",
   "execution_count": 76,
   "id": "799a4764",
   "metadata": {},
   "outputs": [
    {
     "data": {
      "text/html": [
       "<div>\n",
       "<style scoped>\n",
       "    .dataframe tbody tr th:only-of-type {\n",
       "        vertical-align: middle;\n",
       "    }\n",
       "\n",
       "    .dataframe tbody tr th {\n",
       "        vertical-align: top;\n",
       "    }\n",
       "\n",
       "    .dataframe thead th {\n",
       "        text-align: right;\n",
       "    }\n",
       "</style>\n",
       "<table border=\"1\" class=\"dataframe\">\n",
       "  <thead>\n",
       "    <tr style=\"text-align: right;\">\n",
       "      <th></th>\n",
       "      <th>ApplicantIncome</th>\n",
       "      <th>CoapplicantIncome</th>\n",
       "      <th>LoanAmount</th>\n",
       "      <th>Loan_Amount_Term</th>\n",
       "      <th>Credit_History</th>\n",
       "    </tr>\n",
       "  </thead>\n",
       "  <tbody>\n",
       "    <tr>\n",
       "      <th>0</th>\n",
       "      <td>5720</td>\n",
       "      <td>0</td>\n",
       "      <td>110.0</td>\n",
       "      <td>360.0</td>\n",
       "      <td>1.0</td>\n",
       "    </tr>\n",
       "    <tr>\n",
       "      <th>1</th>\n",
       "      <td>3076</td>\n",
       "      <td>1500</td>\n",
       "      <td>126.0</td>\n",
       "      <td>360.0</td>\n",
       "      <td>1.0</td>\n",
       "    </tr>\n",
       "    <tr>\n",
       "      <th>2</th>\n",
       "      <td>5000</td>\n",
       "      <td>1800</td>\n",
       "      <td>208.0</td>\n",
       "      <td>360.0</td>\n",
       "      <td>1.0</td>\n",
       "    </tr>\n",
       "    <tr>\n",
       "      <th>3</th>\n",
       "      <td>2340</td>\n",
       "      <td>2546</td>\n",
       "      <td>100.0</td>\n",
       "      <td>360.0</td>\n",
       "      <td>1.0</td>\n",
       "    </tr>\n",
       "    <tr>\n",
       "      <th>4</th>\n",
       "      <td>3276</td>\n",
       "      <td>0</td>\n",
       "      <td>78.0</td>\n",
       "      <td>360.0</td>\n",
       "      <td>1.0</td>\n",
       "    </tr>\n",
       "  </tbody>\n",
       "</table>\n",
       "</div>"
      ],
      "text/plain": [
       "   ApplicantIncome  CoapplicantIncome  LoanAmount  Loan_Amount_Term  \\\n",
       "0             5720                  0       110.0             360.0   \n",
       "1             3076               1500       126.0             360.0   \n",
       "2             5000               1800       208.0             360.0   \n",
       "3             2340               2546       100.0             360.0   \n",
       "4             3276                  0        78.0             360.0   \n",
       "\n",
       "   Credit_History  \n",
       "0             1.0  \n",
       "1             1.0  \n",
       "2             1.0  \n",
       "3             1.0  \n",
       "4             1.0  "
      ]
     },
     "execution_count": 76,
     "metadata": {},
     "output_type": "execute_result"
    }
   ],
   "source": [
    "test_data1.head()"
   ]
  },
  {
   "cell_type": "code",
   "execution_count": 77,
   "id": "22c3f0e9",
   "metadata": {},
   "outputs": [
    {
     "data": {
      "text/html": [
       "<div>\n",
       "<style scoped>\n",
       "    .dataframe tbody tr th:only-of-type {\n",
       "        vertical-align: middle;\n",
       "    }\n",
       "\n",
       "    .dataframe tbody tr th {\n",
       "        vertical-align: top;\n",
       "    }\n",
       "\n",
       "    .dataframe thead th {\n",
       "        text-align: right;\n",
       "    }\n",
       "</style>\n",
       "<table border=\"1\" class=\"dataframe\">\n",
       "  <thead>\n",
       "    <tr style=\"text-align: right;\">\n",
       "      <th></th>\n",
       "      <th>Gender</th>\n",
       "      <th>Married</th>\n",
       "      <th>Dependents</th>\n",
       "      <th>Education</th>\n",
       "      <th>Self_Employed</th>\n",
       "      <th>Property_Area</th>\n",
       "    </tr>\n",
       "  </thead>\n",
       "  <tbody>\n",
       "    <tr>\n",
       "      <th>0</th>\n",
       "      <td>1</td>\n",
       "      <td>1</td>\n",
       "      <td>0</td>\n",
       "      <td>0</td>\n",
       "      <td>0</td>\n",
       "      <td>2</td>\n",
       "    </tr>\n",
       "    <tr>\n",
       "      <th>1</th>\n",
       "      <td>1</td>\n",
       "      <td>1</td>\n",
       "      <td>1</td>\n",
       "      <td>0</td>\n",
       "      <td>0</td>\n",
       "      <td>2</td>\n",
       "    </tr>\n",
       "    <tr>\n",
       "      <th>2</th>\n",
       "      <td>1</td>\n",
       "      <td>1</td>\n",
       "      <td>2</td>\n",
       "      <td>0</td>\n",
       "      <td>0</td>\n",
       "      <td>2</td>\n",
       "    </tr>\n",
       "    <tr>\n",
       "      <th>3</th>\n",
       "      <td>1</td>\n",
       "      <td>1</td>\n",
       "      <td>2</td>\n",
       "      <td>0</td>\n",
       "      <td>0</td>\n",
       "      <td>2</td>\n",
       "    </tr>\n",
       "    <tr>\n",
       "      <th>4</th>\n",
       "      <td>1</td>\n",
       "      <td>0</td>\n",
       "      <td>0</td>\n",
       "      <td>1</td>\n",
       "      <td>0</td>\n",
       "      <td>2</td>\n",
       "    </tr>\n",
       "  </tbody>\n",
       "</table>\n",
       "</div>"
      ],
      "text/plain": [
       "   Gender  Married  Dependents  Education  Self_Employed  Property_Area\n",
       "0       1        1           0          0              0              2\n",
       "1       1        1           1          0              0              2\n",
       "2       1        1           2          0              0              2\n",
       "3       1        1           2          0              0              2\n",
       "4       1        0           0          1              0              2"
      ]
     },
     "execution_count": 77,
     "metadata": {},
     "output_type": "execute_result"
    }
   ],
   "source": [
    "test_data2 = test_data[['Gender','Married','Dependents','Education','Self_Employed','Property_Area']]\n",
    "test_data2.head()"
   ]
  },
  {
   "cell_type": "code",
   "execution_count": 78,
   "id": "5ad4a298",
   "metadata": {},
   "outputs": [],
   "source": [
    "from sklearn.preprocessing import StandardScaler\n",
    "\n",
    "stdclr = StandardScaler()\n",
    "test_data3  = stdclr.fit_transform(test_data1)"
   ]
  },
  {
   "cell_type": "code",
   "execution_count": 79,
   "id": "e2ee2205",
   "metadata": {},
   "outputs": [],
   "source": [
    "test_data3 = pd.DataFrame(test_data3, columns = ['ApplicantIncome', 'CoapplicantIncome', 'LoanAmount',\n",
    "       'Loan_Amount_Term', 'Credit_History'])"
   ]
  },
  {
   "cell_type": "code",
   "execution_count": 80,
   "id": "1111117b",
   "metadata": {},
   "outputs": [
    {
     "data": {
      "text/html": [
       "<div>\n",
       "<style scoped>\n",
       "    .dataframe tbody tr th:only-of-type {\n",
       "        vertical-align: middle;\n",
       "    }\n",
       "\n",
       "    .dataframe tbody tr th {\n",
       "        vertical-align: top;\n",
       "    }\n",
       "\n",
       "    .dataframe thead th {\n",
       "        text-align: right;\n",
       "    }\n",
       "</style>\n",
       "<table border=\"1\" class=\"dataframe\">\n",
       "  <thead>\n",
       "    <tr style=\"text-align: right;\">\n",
       "      <th></th>\n",
       "      <th>ApplicantIncome</th>\n",
       "      <th>CoapplicantIncome</th>\n",
       "      <th>LoanAmount</th>\n",
       "      <th>Loan_Amount_Term</th>\n",
       "      <th>Credit_History</th>\n",
       "    </tr>\n",
       "  </thead>\n",
       "  <tbody>\n",
       "    <tr>\n",
       "      <th>0</th>\n",
       "      <td>0.186461</td>\n",
       "      <td>-0.673335</td>\n",
       "      <td>-0.426780</td>\n",
       "      <td>0.266022</td>\n",
       "      <td>0.437674</td>\n",
       "    </tr>\n",
       "    <tr>\n",
       "      <th>1</th>\n",
       "      <td>-0.352692</td>\n",
       "      <td>-0.029848</td>\n",
       "      <td>-0.163953</td>\n",
       "      <td>0.266022</td>\n",
       "      <td>0.437674</td>\n",
       "    </tr>\n",
       "    <tr>\n",
       "      <th>2</th>\n",
       "      <td>0.039641</td>\n",
       "      <td>0.098849</td>\n",
       "      <td>1.183033</td>\n",
       "      <td>0.266022</td>\n",
       "      <td>0.437674</td>\n",
       "    </tr>\n",
       "    <tr>\n",
       "      <th>3</th>\n",
       "      <td>-0.502774</td>\n",
       "      <td>0.418877</td>\n",
       "      <td>-0.591047</td>\n",
       "      <td>0.266022</td>\n",
       "      <td>0.437674</td>\n",
       "    </tr>\n",
       "    <tr>\n",
       "      <th>4</th>\n",
       "      <td>-0.311909</td>\n",
       "      <td>-0.673335</td>\n",
       "      <td>-0.952433</td>\n",
       "      <td>0.266022</td>\n",
       "      <td>0.437674</td>\n",
       "    </tr>\n",
       "    <tr>\n",
       "      <th>...</th>\n",
       "      <td>...</td>\n",
       "      <td>...</td>\n",
       "      <td>...</td>\n",
       "      <td>...</td>\n",
       "      <td>...</td>\n",
       "    </tr>\n",
       "    <tr>\n",
       "      <th>362</th>\n",
       "      <td>-0.162439</td>\n",
       "      <td>0.088982</td>\n",
       "      <td>-0.377500</td>\n",
       "      <td>0.266022</td>\n",
       "      <td>0.437674</td>\n",
       "    </tr>\n",
       "    <tr>\n",
       "      <th>363</th>\n",
       "      <td>-0.132056</td>\n",
       "      <td>-0.369180</td>\n",
       "      <td>-0.344647</td>\n",
       "      <td>0.266022</td>\n",
       "      <td>0.437674</td>\n",
       "    </tr>\n",
       "    <tr>\n",
       "      <th>364</th>\n",
       "      <td>-0.317211</td>\n",
       "      <td>0.181644</td>\n",
       "      <td>-0.163953</td>\n",
       "      <td>0.266022</td>\n",
       "      <td>0.437674</td>\n",
       "    </tr>\n",
       "    <tr>\n",
       "      <th>365</th>\n",
       "      <td>0.039641</td>\n",
       "      <td>0.353241</td>\n",
       "      <td>0.361700</td>\n",
       "      <td>0.266022</td>\n",
       "      <td>0.437674</td>\n",
       "    </tr>\n",
       "    <tr>\n",
       "      <th>366</th>\n",
       "      <td>0.896087</td>\n",
       "      <td>-0.673335</td>\n",
       "      <td>-0.623900</td>\n",
       "      <td>-2.521639</td>\n",
       "      <td>0.437674</td>\n",
       "    </tr>\n",
       "  </tbody>\n",
       "</table>\n",
       "<p>367 rows × 5 columns</p>\n",
       "</div>"
      ],
      "text/plain": [
       "     ApplicantIncome  CoapplicantIncome  LoanAmount  Loan_Amount_Term  \\\n",
       "0           0.186461          -0.673335   -0.426780          0.266022   \n",
       "1          -0.352692          -0.029848   -0.163953          0.266022   \n",
       "2           0.039641           0.098849    1.183033          0.266022   \n",
       "3          -0.502774           0.418877   -0.591047          0.266022   \n",
       "4          -0.311909          -0.673335   -0.952433          0.266022   \n",
       "..               ...                ...         ...               ...   \n",
       "362        -0.162439           0.088982   -0.377500          0.266022   \n",
       "363        -0.132056          -0.369180   -0.344647          0.266022   \n",
       "364        -0.317211           0.181644   -0.163953          0.266022   \n",
       "365         0.039641           0.353241    0.361700          0.266022   \n",
       "366         0.896087          -0.673335   -0.623900         -2.521639   \n",
       "\n",
       "     Credit_History  \n",
       "0          0.437674  \n",
       "1          0.437674  \n",
       "2          0.437674  \n",
       "3          0.437674  \n",
       "4          0.437674  \n",
       "..              ...  \n",
       "362        0.437674  \n",
       "363        0.437674  \n",
       "364        0.437674  \n",
       "365        0.437674  \n",
       "366        0.437674  \n",
       "\n",
       "[367 rows x 5 columns]"
      ]
     },
     "execution_count": 80,
     "metadata": {},
     "output_type": "execute_result"
    }
   ],
   "source": [
    "test_data3"
   ]
  },
  {
   "cell_type": "code",
   "execution_count": 81,
   "id": "2137b189",
   "metadata": {},
   "outputs": [
    {
     "data": {
      "text/html": [
       "<div>\n",
       "<style scoped>\n",
       "    .dataframe tbody tr th:only-of-type {\n",
       "        vertical-align: middle;\n",
       "    }\n",
       "\n",
       "    .dataframe tbody tr th {\n",
       "        vertical-align: top;\n",
       "    }\n",
       "\n",
       "    .dataframe thead th {\n",
       "        text-align: right;\n",
       "    }\n",
       "</style>\n",
       "<table border=\"1\" class=\"dataframe\">\n",
       "  <thead>\n",
       "    <tr style=\"text-align: right;\">\n",
       "      <th></th>\n",
       "      <th>Gender</th>\n",
       "      <th>Married</th>\n",
       "      <th>Dependents</th>\n",
       "      <th>Education</th>\n",
       "      <th>Self_Employed</th>\n",
       "      <th>Property_Area</th>\n",
       "      <th>ApplicantIncome</th>\n",
       "      <th>CoapplicantIncome</th>\n",
       "      <th>LoanAmount</th>\n",
       "      <th>Loan_Amount_Term</th>\n",
       "      <th>Credit_History</th>\n",
       "    </tr>\n",
       "  </thead>\n",
       "  <tbody>\n",
       "    <tr>\n",
       "      <th>0</th>\n",
       "      <td>1</td>\n",
       "      <td>1</td>\n",
       "      <td>0</td>\n",
       "      <td>0</td>\n",
       "      <td>0</td>\n",
       "      <td>2</td>\n",
       "      <td>0.186461</td>\n",
       "      <td>-0.673335</td>\n",
       "      <td>-0.426780</td>\n",
       "      <td>0.266022</td>\n",
       "      <td>0.437674</td>\n",
       "    </tr>\n",
       "    <tr>\n",
       "      <th>1</th>\n",
       "      <td>1</td>\n",
       "      <td>1</td>\n",
       "      <td>1</td>\n",
       "      <td>0</td>\n",
       "      <td>0</td>\n",
       "      <td>2</td>\n",
       "      <td>-0.352692</td>\n",
       "      <td>-0.029848</td>\n",
       "      <td>-0.163953</td>\n",
       "      <td>0.266022</td>\n",
       "      <td>0.437674</td>\n",
       "    </tr>\n",
       "    <tr>\n",
       "      <th>2</th>\n",
       "      <td>1</td>\n",
       "      <td>1</td>\n",
       "      <td>2</td>\n",
       "      <td>0</td>\n",
       "      <td>0</td>\n",
       "      <td>2</td>\n",
       "      <td>0.039641</td>\n",
       "      <td>0.098849</td>\n",
       "      <td>1.183033</td>\n",
       "      <td>0.266022</td>\n",
       "      <td>0.437674</td>\n",
       "    </tr>\n",
       "    <tr>\n",
       "      <th>3</th>\n",
       "      <td>1</td>\n",
       "      <td>1</td>\n",
       "      <td>2</td>\n",
       "      <td>0</td>\n",
       "      <td>0</td>\n",
       "      <td>2</td>\n",
       "      <td>-0.502774</td>\n",
       "      <td>0.418877</td>\n",
       "      <td>-0.591047</td>\n",
       "      <td>0.266022</td>\n",
       "      <td>0.437674</td>\n",
       "    </tr>\n",
       "    <tr>\n",
       "      <th>4</th>\n",
       "      <td>1</td>\n",
       "      <td>0</td>\n",
       "      <td>0</td>\n",
       "      <td>1</td>\n",
       "      <td>0</td>\n",
       "      <td>2</td>\n",
       "      <td>-0.311909</td>\n",
       "      <td>-0.673335</td>\n",
       "      <td>-0.952433</td>\n",
       "      <td>0.266022</td>\n",
       "      <td>0.437674</td>\n",
       "    </tr>\n",
       "  </tbody>\n",
       "</table>\n",
       "</div>"
      ],
      "text/plain": [
       "   Gender  Married  Dependents  Education  Self_Employed  Property_Area  \\\n",
       "0       1        1           0          0              0              2   \n",
       "1       1        1           1          0              0              2   \n",
       "2       1        1           2          0              0              2   \n",
       "3       1        1           2          0              0              2   \n",
       "4       1        0           0          1              0              2   \n",
       "\n",
       "   ApplicantIncome  CoapplicantIncome  LoanAmount  Loan_Amount_Term  \\\n",
       "0         0.186461          -0.673335   -0.426780          0.266022   \n",
       "1        -0.352692          -0.029848   -0.163953          0.266022   \n",
       "2         0.039641           0.098849    1.183033          0.266022   \n",
       "3        -0.502774           0.418877   -0.591047          0.266022   \n",
       "4        -0.311909          -0.673335   -0.952433          0.266022   \n",
       "\n",
       "   Credit_History  \n",
       "0        0.437674  \n",
       "1        0.437674  \n",
       "2        0.437674  \n",
       "3        0.437674  \n",
       "4        0.437674  "
      ]
     },
     "execution_count": 81,
     "metadata": {},
     "output_type": "execute_result"
    }
   ],
   "source": [
    "test_data3 = pd.concat([test_data2, test_data3], axis =1)\n",
    "test_data3.head()"
   ]
  },
  {
   "cell_type": "markdown",
   "id": "c91e7e95",
   "metadata": {},
   "source": [
    "## Prediction Using Random Classifier with Test Data  "
   ]
  },
  {
   "cell_type": "code",
   "execution_count": 83,
   "id": "1d02679a",
   "metadata": {},
   "outputs": [
    {
     "data": {
      "text/plain": [
       "array([1, 1, 1, 1, 1, 1, 1, 0, 1, 1, 1, 1, 1, 0, 1, 1, 1, 1, 1, 1, 1, 1,\n",
       "       1, 1, 1, 1, 1, 1, 1, 1, 1, 1, 1, 1, 1, 0, 1, 1, 1, 1, 1, 1, 1, 1,\n",
       "       1, 1, 1, 1, 1, 1, 1, 1, 1, 1, 1, 0, 1, 1, 0, 1, 1, 1, 1, 0, 1, 1,\n",
       "       0, 0, 1, 0, 1, 1, 1, 1, 1, 1, 1, 1, 1, 1, 0, 1, 0, 1, 0, 1, 1, 1,\n",
       "       1, 1, 1, 1, 1, 1, 0, 1, 1, 1, 1, 1, 1, 0, 1, 1, 1, 1, 0, 1, 1, 1,\n",
       "       1, 1, 1, 1, 1, 1, 1, 0, 0, 0, 1, 1, 1, 0, 0, 1, 0, 1, 1, 1, 1, 1,\n",
       "       1, 1, 1, 1, 1, 1, 1, 1, 0, 1, 0, 1, 1, 1, 1, 0, 1, 1, 1, 1, 1, 0,\n",
       "       1, 1, 1, 1, 1, 1, 1, 0, 1, 1, 1, 0, 0, 1, 0, 1, 1, 1, 1, 0, 0, 1,\n",
       "       1, 1, 1, 1, 1, 1, 1, 1, 1, 1, 1, 1, 1, 1, 1, 1, 0, 0, 1, 1, 0, 1,\n",
       "       0, 1, 1, 1, 1, 1, 1, 1, 1, 1, 1, 1, 1, 0, 1, 1, 1, 1, 1, 1, 1, 1,\n",
       "       1, 1, 1, 1, 0, 1, 1, 1, 1, 0, 1, 1, 1, 1, 1, 0, 0, 1, 1, 0, 1, 0,\n",
       "       1, 0, 1, 0, 1, 1, 1, 1, 0, 1, 1, 1, 1, 0, 1, 1, 1, 1, 1, 1, 1, 1,\n",
       "       1, 1, 0, 1, 0, 1, 1, 1, 1, 0, 0, 1, 1, 1, 0, 1, 1, 1, 1, 1, 1, 1,\n",
       "       1, 1, 1, 1, 1, 1, 1, 0, 1, 1, 1, 1, 1, 1, 1, 0, 1, 1, 1, 1, 1, 1,\n",
       "       1, 1, 1, 0, 1, 1, 1, 1, 1, 0, 1, 1, 1, 1, 1, 1, 1, 1, 1, 1, 1, 1,\n",
       "       1, 1, 1, 1, 1, 1, 1, 1, 1, 0, 1, 1, 1, 1, 1, 1, 0, 1, 1, 1, 1, 1,\n",
       "       1, 1, 0, 1, 1, 1, 1, 1, 1, 1, 1, 1, 1, 1, 1])"
      ]
     },
     "execution_count": 83,
     "metadata": {},
     "output_type": "execute_result"
    }
   ],
   "source": [
    "# for SVM Kernal rbf\n",
    "\n",
    "y_pred_test2  = svm_rbf.predict(test_data3)\n",
    "y_pred_test2"
   ]
  },
  {
   "cell_type": "markdown",
   "id": "9ece0222",
   "metadata": {},
   "source": [
    "## Creating a csv file with Predicted values"
   ]
  },
  {
   "cell_type": "code",
   "execution_count": 84,
   "id": "94b679bd",
   "metadata": {},
   "outputs": [],
   "source": [
    "# Create New Data with Loan_ID and predicted Loan_Status \n",
    "\n",
    "new_data = {\"Loan_ID\": td[\"Loan_ID\"], \"Loan_Status\": y_pred_test2}\n",
    "\n",
    "\n",
    "\n",
    "# Creating Dataframe\n",
    "\n",
    "df = pd.DataFrame(new_data, columns=[\"Loan_ID\", \"Loan_Status\"])\n",
    "\n",
    "\n",
    "# Replacing the values of Loan Status with predicted values \n",
    "\n",
    "df[\"Loan_Status\"].replace(0,\"N\",inplace=True)\n",
    "df[\"Loan_Status\"].replace(1,\"Y\",inplace=True)\n",
    "\n",
    "\n",
    "# Converting Dataframe to csv file\n",
    " \n",
    "df.to_csv(\"Sample_Submission_Krisselle_rbf.csv\", index = False)"
   ]
  },
  {
   "cell_type": "code",
   "execution_count": null,
   "id": "01a141a8",
   "metadata": {},
   "outputs": [],
   "source": []
  }
 ],
 "metadata": {
  "kernelspec": {
   "display_name": "Python 3 (ipykernel)",
   "language": "python",
   "name": "python3"
  },
  "language_info": {
   "codemirror_mode": {
    "name": "ipython",
    "version": 3
   },
   "file_extension": ".py",
   "mimetype": "text/x-python",
   "name": "python",
   "nbconvert_exporter": "python",
   "pygments_lexer": "ipython3",
   "version": "3.9.13"
  }
 },
 "nbformat": 4,
 "nbformat_minor": 5
}
